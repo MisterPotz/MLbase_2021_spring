{
 "cells": [
  {
   "cell_type": "markdown",
   "metadata": {
    "id": "P5baPePnIXnn"
   },
   "source": [
    "**Горностаев А. ML-11**"
   ]
  },
  {
   "cell_type": "code",
   "execution_count": 1,
   "metadata": {
    "id": "jxVNjITU0jys"
   },
   "outputs": [
    {
     "name": "stdout",
     "output_type": "stream",
     "text": [
      "hw.ipynb\r\n"
     ]
    }
   ],
   "source": [
    "# is_drive = True\n",
    "\n",
    "# def get_path(file_name):\n",
    "#   drive_path_prefix = \"/content/drive/MyDrive/Технопарк 2021 ML/lecture04/\"\n",
    "#   simple_path_prefix =\".\"\n",
    "#   if is_drive:\n",
    "#     return f\"{drive_path_prefix}/{file_name}\"\n",
    "#   else:\n",
    "#     return f\"{simple_path_prefix}/{file_name}\"\n",
    "!ls"
   ]
  },
  {
   "cell_type": "code",
   "execution_count": 2,
   "metadata": {
    "colab": {
     "base_uri": "https://localhost:8080/"
    },
    "executionInfo": {
     "elapsed": 20702,
     "status": "ok",
     "timestamp": 1617728579613,
     "user": {
      "displayName": "Alexander Gornostaev",
      "photoUrl": "https://lh3.googleusercontent.com/a-/AOh14GjcMiGmZYjEUIvv9b6TGo9EzICuXgq4cO4i0hM4CQ=s64",
      "userId": "08333125887748164475"
     },
     "user_tz": -180
    },
    "id": "ctXg8Hsm22or",
    "outputId": "740ab4c2-4103-48e8-e488-2ffc271ec744"
   },
   "outputs": [
    {
     "name": "stdout",
     "output_type": "stream",
     "text": [
      "\u001b[31mKmeans_animation.gif\u001b[m\u001b[m    \u001b[31mkmeans-guys.jpeg\u001b[m\u001b[m        \u001b[31mpca_svd.png\u001b[m\u001b[m\r\n",
      "\u001b[31mcumul_rat.png\u001b[m\u001b[m           \u001b[31mkmeans_2moons.png\u001b[m\u001b[m       \u001b[31mplane_best_fit.png\u001b[m\u001b[m\r\n",
      "\u001b[31mdbscan.png\u001b[m\u001b[m              \u001b[31mkmeans_digits.png\u001b[m\u001b[m       \u001b[31mrand1.png\u001b[m\u001b[m\r\n",
      "\u001b[31mdbscan_points_types.png\u001b[m\u001b[m \u001b[31mlanguages.png\u001b[m\u001b[m           \u001b[31mrand2.png\u001b[m\u001b[m\r\n",
      "\u001b[31mdiff-dens.png\u001b[m\u001b[m           \u001b[31mmainfold.png\u001b[m\u001b[m            \u001b[31msil1.png\u001b[m\u001b[m\r\n",
      "\u001b[31mdigits.png\u001b[m\u001b[m              \u001b[31mmds.png\u001b[m\u001b[m                 \u001b[31msil2.png\u001b[m\u001b[m\r\n",
      "\u001b[31mheader.png\u001b[m\u001b[m              \u001b[31mmnistdigits.jpg\u001b[m\u001b[m         \u001b[31msphere_example.png\u001b[m\u001b[m\r\n",
      "\u001b[31mheader2.png\u001b[m\u001b[m             \u001b[31mpca.png\u001b[m\u001b[m                 \u001b[31mt-distr.png\u001b[m\u001b[m\r\n",
      "\u001b[31mkld.png\u001b[m\u001b[m                 \u001b[31mpca_example.png\u001b[m\u001b[m\r\n"
     ]
    }
   ],
   "source": [
    "# if is_drive:\n",
    "#   from google.colab import drive\n",
    "#   drive.mount('/content/drive')\n",
    "!ls ./../images"
   ]
  },
  {
   "cell_type": "markdown",
   "metadata": {
    "id": "mkLunFC6H-09"
   },
   "source": [
    "<center><img src=\"images/header.png\" width=400></center>\n",
    "\n",
    "<h1><center>Основы машинного обучения</center></h1>\n",
    "<hr>\n",
    "<h2><center>Методы обучения без учителя: Домашняя работа</center></h2>"
   ]
  },
  {
   "cell_type": "markdown",
   "metadata": {
    "id": "J4fNQmtdH-1E"
   },
   "source": [
    "Правила:\n",
    "\n",
    "* Отчеты принимаются до 23:59 11 апреля. Вы должны залить ваш ноутбук в [colab](https://colab.research.google.com) и дать на него ссылку в форме сдачи ДЗ на портале\n",
    "* Работоспособность будет проверяться в коллабе. Это значит что:\n",
    "    1. Вам надо удостовериться, что код отрабатывает от начала и до конца. Выполните аналог \"Restart Kernel and Run All\" в colab\n",
    "    2. Убедитесь, что данные автоматически подгружается с помощью команды `!wget` (см семинары для примера). Все нужные данные есть [здесь](https://github.com/vadim0912/MLbase_2021_spring/tree/master/lecture04/data)\n",
    "    3. Все необходимые модули тоже устанавливаются на лету через `!pip`\n"
   ]
  },
  {
   "cell_type": "code",
   "execution_count": 1,
   "metadata": {
    "executionInfo": {
     "elapsed": 2015,
     "status": "ok",
     "timestamp": 1617777430621,
     "user": {
      "displayName": "Alexander Gornostaev",
      "photoUrl": "https://lh3.googleusercontent.com/a-/AOh14GjcMiGmZYjEUIvv9b6TGo9EzICuXgq4cO4i0hM4CQ=s64",
      "userId": "08333125887748164475"
     },
     "user_tz": -180
    },
    "id": "jplbxfVwH-1F"
   },
   "outputs": [],
   "source": [
    "%matplotlib inline"
   ]
  },
  {
   "cell_type": "code",
   "execution_count": 2,
   "metadata": {
    "executionInfo": {
     "elapsed": 1577,
     "status": "ok",
     "timestamp": 1617777430622,
     "user": {
      "displayName": "Alexander Gornostaev",
      "photoUrl": "https://lh3.googleusercontent.com/a-/AOh14GjcMiGmZYjEUIvv9b6TGo9EzICuXgq4cO4i0hM4CQ=s64",
      "userId": "08333125887748164475"
     },
     "user_tz": -180
    },
    "id": "JBqZNjSTH-1G"
   },
   "outputs": [],
   "source": [
    "import pandas as pd\n",
    "import matplotlib.pyplot as plt\n",
    "import numpy as np\n",
    "\n",
    "plt.style.use('seaborn-talk')\n",
    "plt.rcParams['figure.figsize'] = (15,10)"
   ]
  },
  {
   "cell_type": "markdown",
   "metadata": {
    "id": "hBRnrQ1FH-1G"
   },
   "source": [
    "# Задача про датчики на руках"
   ]
  },
  {
   "cell_type": "markdown",
   "metadata": {
    "id": "75PuSCsTH-1G"
   },
   "source": [
    "В этом задании мы применим метод главных компонент на многомерных данных и постараемся найти оптимальную размерность признаков для решения задачи классификации"
   ]
  },
  {
   "cell_type": "markdown",
   "metadata": {
    "id": "8YVCOKBVH-1H"
   },
   "source": [
    "Исходными [данными](http://archive.ics.uci.edu/ml/machine-learning-databases/auslan2-mld/auslan.data.html) являются показания различных сенсоров, установленных на руках человека, который умеет общаться на языке жестов.\n",
    "\n",
    "В данном случае задача ставится следующим образом: по показаниям датчиков (по 11 сенсоров на каждую руку) определить слово, которое было показано человеком.\n",
    "\n",
    "Как можно решать такую задачу?\n",
    "\n",
    "Показания датчиков представляются в виде временных рядов. Посмотрим на показания для одного из \"слов\""
   ]
  },
  {
   "cell_type": "code",
   "execution_count": 3,
   "metadata": {
    "colab": {
     "base_uri": "https://localhost:8080/"
    },
    "executionInfo": {
     "elapsed": 2447,
     "status": "ok",
     "timestamp": 1617777405433,
     "user": {
      "displayName": "Alexander Gornostaev",
      "photoUrl": "https://lh3.googleusercontent.com/a-/AOh14GjcMiGmZYjEUIvv9b6TGo9EzICuXgq4cO4i0hM4CQ=s64",
      "userId": "08333125887748164475"
     },
     "user_tz": -180
    },
    "id": "rk7G08ApJ72p",
    "outputId": "bfe9f2d8-e224-4372-e225-6dc50e392acb"
   },
   "outputs": [
    {
     "name": "stdout",
     "output_type": "stream",
     "text": [
      "\u001b[34mdata\u001b[m\u001b[m     hw.ipynb \u001b[34mimages\u001b[m\u001b[m\r\n"
     ]
    }
   ],
   "source": [
    "!ls"
   ]
  },
  {
   "cell_type": "code",
   "execution_count": 4,
   "metadata": {
    "colab": {
     "base_uri": "https://localhost:8080/"
    },
    "executionInfo": {
     "elapsed": 3624,
     "status": "ok",
     "timestamp": 1617777411165,
     "user": {
      "displayName": "Alexander Gornostaev",
      "photoUrl": "https://lh3.googleusercontent.com/a-/AOh14GjcMiGmZYjEUIvv9b6TGo9EzICuXgq4cO4i0hM4CQ=s64",
      "userId": "08333125887748164475"
     },
     "user_tz": -180
    },
    "id": "QGy2S7chJeg5",
    "outputId": "8ea237b9-6a6a-4d81-b259-a98ae360b5be"
   },
   "outputs": [],
   "source": [
    "# !wget https://raw.githubusercontent.com/vadim0912/MLbase_2021_spring/main/lecture04/data/sign_database.csv\n",
    "# !wget https://raw.githubusercontent.com/vadim0912/MLbase_2021_spring/main/lecture04/data/sign_classes.csv"
   ]
  },
  {
   "cell_type": "code",
   "execution_count": 5,
   "metadata": {
    "executionInfo": {
     "elapsed": 1663,
     "status": "ok",
     "timestamp": 1617777437305,
     "user": {
      "displayName": "Alexander Gornostaev",
      "photoUrl": "https://lh3.googleusercontent.com/a-/AOh14GjcMiGmZYjEUIvv9b6TGo9EzICuXgq4cO4i0hM4CQ=s64",
      "userId": "08333125887748164475"
     },
     "user_tz": -180
    },
    "id": "XvCTXKazH-1H"
   },
   "outputs": [],
   "source": [
    "# Загружаем данные сенсоров\n",
    "df_database = pd.read_csv('./../data/sign_database.csv', header=0, index_col=None)\n",
    "\n",
    "# Загружаем метки классов\n",
    "sign_classes = pd.read_csv('./../data/sign_classes.csv', index_col=0, header=0, names=['id', 'class'])"
   ]
  },
  {
   "cell_type": "code",
   "execution_count": 6,
   "metadata": {
    "colab": {
     "base_uri": "https://localhost:8080/",
     "height": 224
    },
    "executionInfo": {
     "elapsed": 1071,
     "status": "ok",
     "timestamp": 1617777440654,
     "user": {
      "displayName": "Alexander Gornostaev",
      "photoUrl": "https://lh3.googleusercontent.com/a-/AOh14GjcMiGmZYjEUIvv9b6TGo9EzICuXgq4cO4i0hM4CQ=s64",
      "userId": "08333125887748164475"
     },
     "user_tz": -180
    },
    "id": "ekGGxWozH-1H",
    "outputId": "d441b267-e3eb-4a85-8367-97bea3fe65e8"
   },
   "outputs": [
    {
     "data": {
      "text/html": [
       "<div>\n",
       "<style scoped>\n",
       "    .dataframe tbody tr th:only-of-type {\n",
       "        vertical-align: middle;\n",
       "    }\n",
       "\n",
       "    .dataframe tbody tr th {\n",
       "        vertical-align: top;\n",
       "    }\n",
       "\n",
       "    .dataframe thead th {\n",
       "        text-align: right;\n",
       "    }\n",
       "</style>\n",
       "<table border=\"1\" class=\"dataframe\">\n",
       "  <thead>\n",
       "    <tr style=\"text-align: right;\">\n",
       "      <th></th>\n",
       "      <th>x_l</th>\n",
       "      <th>x_r</th>\n",
       "      <th>y_l</th>\n",
       "      <th>y_r</th>\n",
       "      <th>z_l</th>\n",
       "      <th>z_r</th>\n",
       "      <th>roll_l</th>\n",
       "      <th>roll_r</th>\n",
       "      <th>pitch_l</th>\n",
       "      <th>pitch_r</th>\n",
       "      <th>...</th>\n",
       "      <th>forefinger_l</th>\n",
       "      <th>forefinger_r</th>\n",
       "      <th>middle_l</th>\n",
       "      <th>middle_r</th>\n",
       "      <th>ring_l</th>\n",
       "      <th>ring_r</th>\n",
       "      <th>little_l</th>\n",
       "      <th>little_r</th>\n",
       "      <th>id</th>\n",
       "      <th>time</th>\n",
       "    </tr>\n",
       "  </thead>\n",
       "  <tbody>\n",
       "    <tr>\n",
       "      <th>0</th>\n",
       "      <td>-0.097816</td>\n",
       "      <td>-0.127761</td>\n",
       "      <td>-0.029051</td>\n",
       "      <td>0.537977</td>\n",
       "      <td>0.249162</td>\n",
       "      <td>0.508908</td>\n",
       "      <td>0.239445</td>\n",
       "      <td>0.039819</td>\n",
       "      <td>0.0</td>\n",
       "      <td>0.007009</td>\n",
       "      <td>...</td>\n",
       "      <td>0.369149</td>\n",
       "      <td>0.381857</td>\n",
       "      <td>0.570995</td>\n",
       "      <td>0.343431</td>\n",
       "      <td>0.0</td>\n",
       "      <td>0.000000</td>\n",
       "      <td>0.0</td>\n",
       "      <td>0.133088</td>\n",
       "      <td>0</td>\n",
       "      <td>0</td>\n",
       "    </tr>\n",
       "    <tr>\n",
       "      <th>1</th>\n",
       "      <td>-0.102460</td>\n",
       "      <td>-0.126734</td>\n",
       "      <td>-0.029230</td>\n",
       "      <td>0.537758</td>\n",
       "      <td>0.246477</td>\n",
       "      <td>0.507236</td>\n",
       "      <td>0.240116</td>\n",
       "      <td>0.039057</td>\n",
       "      <td>0.0</td>\n",
       "      <td>0.007009</td>\n",
       "      <td>...</td>\n",
       "      <td>0.326618</td>\n",
       "      <td>0.402561</td>\n",
       "      <td>0.595044</td>\n",
       "      <td>0.291571</td>\n",
       "      <td>0.0</td>\n",
       "      <td>0.000000</td>\n",
       "      <td>0.0</td>\n",
       "      <td>0.084865</td>\n",
       "      <td>0</td>\n",
       "      <td>1</td>\n",
       "    </tr>\n",
       "    <tr>\n",
       "      <th>2</th>\n",
       "      <td>-0.103085</td>\n",
       "      <td>-0.125618</td>\n",
       "      <td>-0.028605</td>\n",
       "      <td>0.537464</td>\n",
       "      <td>0.244890</td>\n",
       "      <td>0.507273</td>\n",
       "      <td>0.234753</td>\n",
       "      <td>0.039057</td>\n",
       "      <td>0.0</td>\n",
       "      <td>0.007494</td>\n",
       "      <td>...</td>\n",
       "      <td>0.295135</td>\n",
       "      <td>0.436131</td>\n",
       "      <td>0.639491</td>\n",
       "      <td>0.242470</td>\n",
       "      <td>0.0</td>\n",
       "      <td>0.000000</td>\n",
       "      <td>0.0</td>\n",
       "      <td>0.026230</td>\n",
       "      <td>0</td>\n",
       "      <td>2</td>\n",
       "    </tr>\n",
       "    <tr>\n",
       "      <th>3</th>\n",
       "      <td>-0.102639</td>\n",
       "      <td>-0.126020</td>\n",
       "      <td>-0.028873</td>\n",
       "      <td>0.537306</td>\n",
       "      <td>0.244890</td>\n",
       "      <td>0.507639</td>\n",
       "      <td>0.232072</td>\n",
       "      <td>0.026864</td>\n",
       "      <td>0.0</td>\n",
       "      <td>0.009431</td>\n",
       "      <td>...</td>\n",
       "      <td>0.239311</td>\n",
       "      <td>0.521583</td>\n",
       "      <td>0.723905</td>\n",
       "      <td>0.224264</td>\n",
       "      <td>0.0</td>\n",
       "      <td>0.014668</td>\n",
       "      <td>0.0</td>\n",
       "      <td>0.015033</td>\n",
       "      <td>0</td>\n",
       "      <td>3</td>\n",
       "    </tr>\n",
       "    <tr>\n",
       "      <th>4</th>\n",
       "      <td>-0.105139</td>\n",
       "      <td>-0.127538</td>\n",
       "      <td>-0.028917</td>\n",
       "      <td>0.537513</td>\n",
       "      <td>0.244816</td>\n",
       "      <td>0.506626</td>\n",
       "      <td>0.234083</td>\n",
       "      <td>0.026864</td>\n",
       "      <td>0.0</td>\n",
       "      <td>0.008947</td>\n",
       "      <td>...</td>\n",
       "      <td>0.199478</td>\n",
       "      <td>0.675103</td>\n",
       "      <td>0.786566</td>\n",
       "      <td>0.235298</td>\n",
       "      <td>0.0</td>\n",
       "      <td>0.010813</td>\n",
       "      <td>0.0</td>\n",
       "      <td>0.000815</td>\n",
       "      <td>0</td>\n",
       "      <td>4</td>\n",
       "    </tr>\n",
       "  </tbody>\n",
       "</table>\n",
       "<p>5 rows × 24 columns</p>\n",
       "</div>"
      ],
      "text/plain": [
       "        x_l       x_r       y_l       y_r       z_l       z_r    roll_l  \\\n",
       "0 -0.097816 -0.127761 -0.029051  0.537977  0.249162  0.508908  0.239445   \n",
       "1 -0.102460 -0.126734 -0.029230  0.537758  0.246477  0.507236  0.240116   \n",
       "2 -0.103085 -0.125618 -0.028605  0.537464  0.244890  0.507273  0.234753   \n",
       "3 -0.102639 -0.126020 -0.028873  0.537306  0.244890  0.507639  0.232072   \n",
       "4 -0.105139 -0.127538 -0.028917  0.537513  0.244816  0.506626  0.234083   \n",
       "\n",
       "     roll_r  pitch_l   pitch_r  ...  forefinger_l  forefinger_r  middle_l  \\\n",
       "0  0.039819      0.0  0.007009  ...      0.369149      0.381857  0.570995   \n",
       "1  0.039057      0.0  0.007009  ...      0.326618      0.402561  0.595044   \n",
       "2  0.039057      0.0  0.007494  ...      0.295135      0.436131  0.639491   \n",
       "3  0.026864      0.0  0.009431  ...      0.239311      0.521583  0.723905   \n",
       "4  0.026864      0.0  0.008947  ...      0.199478      0.675103  0.786566   \n",
       "\n",
       "   middle_r  ring_l    ring_r  little_l  little_r  id  time  \n",
       "0  0.343431     0.0  0.000000       0.0  0.133088   0     0  \n",
       "1  0.291571     0.0  0.000000       0.0  0.084865   0     1  \n",
       "2  0.242470     0.0  0.000000       0.0  0.026230   0     2  \n",
       "3  0.224264     0.0  0.014668       0.0  0.015033   0     3  \n",
       "4  0.235298     0.0  0.010813       0.0  0.000815   0     4  \n",
       "\n",
       "[5 rows x 24 columns]"
      ]
     },
     "execution_count": 6,
     "metadata": {},
     "output_type": "execute_result"
    }
   ],
   "source": [
    "# Столбец id - идентификаторы \"слов\"\n",
    "# Столбец time - метка времени\n",
    "# Остальные столбцы - показания серсоров для слова id в момент времени time\n",
    "\n",
    "df_database.head()"
   ]
  },
  {
   "cell_type": "code",
   "execution_count": 7,
   "metadata": {
    "executionInfo": {
     "elapsed": 929,
     "status": "ok",
     "timestamp": 1617777443333,
     "user": {
      "displayName": "Alexander Gornostaev",
      "photoUrl": "https://lh3.googleusercontent.com/a-/AOh14GjcMiGmZYjEUIvv9b6TGo9EzICuXgq4cO4i0hM4CQ=s64",
      "userId": "08333125887748164475"
     },
     "user_tz": -180
    },
    "id": "uqw6tAYuH-1I"
   },
   "outputs": [],
   "source": [
    "# Выберем одно из слов с идентификатором = 0\n",
    "sign0 = df_database.query('id == 0')\\\n",
    "                   .drop(['id'], axis=1)\\\n",
    "                   .set_index('time')"
   ]
  },
  {
   "cell_type": "code",
   "execution_count": 8,
   "metadata": {
    "colab": {
     "base_uri": "https://localhost:8080/",
     "height": 635
    },
    "executionInfo": {
     "elapsed": 1754,
     "status": "ok",
     "timestamp": 1617777447960,
     "user": {
      "displayName": "Alexander Gornostaev",
      "photoUrl": "https://lh3.googleusercontent.com/a-/AOh14GjcMiGmZYjEUIvv9b6TGo9EzICuXgq4cO4i0hM4CQ=s64",
      "userId": "08333125887748164475"
     },
     "user_tz": -180
    },
    "id": "i9U3Jql7H-1I",
    "outputId": "40dc1cec-1242-4123-8103-fbcda0d9b27b"
   },
   "outputs": [
    {
     "data": {
      "text/plain": [
       "<AxesSubplot:xlabel='time'>"
      ]
     },
     "execution_count": 8,
     "metadata": {},
     "output_type": "execute_result"
    },
    {
     "data": {
      "image/png": "[encoded data removed]",
      "text/plain": [
       "<Figure size 1080x720 with 1 Axes>"
      ]
     },
     "metadata": {
      "needs_background": "light"
     },
     "output_type": "display_data"
    }
   ],
   "source": [
    "sign0.plot()"
   ]
  },
  {
   "cell_type": "markdown",
   "metadata": {
    "id": "aPkWZs61H-1I"
   },
   "source": [
    "Для каждого из \"слов\" у нас есть набор показаний сенсоров с разных частей руки в каждый момент времени.\n",
    "\n",
    "Идея нашего подхода будет заключаться в следующем – давайте для каждого сенсора составим набор характеристик (например, разброс значений, максимальное, минимальное, среднее значение, количество \"пиков\", и т.п.) и будем использовать эти новые \"признаки\" для решения задачи классификации."
   ]
  },
  {
   "cell_type": "markdown",
   "metadata": {
    "id": "DhzkQjy0H-1I"
   },
   "source": [
    "## Расчет новых признаков"
   ]
  },
  {
   "cell_type": "markdown",
   "metadata": {
    "id": "OXhodrt3H-1J"
   },
   "source": [
    "Признаки мы будем считать с помощью библиотеки [tsfresh](http://tsfresh.readthedocs.io/en/latest/index.html). Генерация новых признаков может занять много времени, поэтому мы сохранили посчитанные данные, но при желании вы можете повторить вычисления."
   ]
  },
  {
   "cell_type": "code",
   "execution_count": 9,
   "metadata": {
    "id": "ojMjEOtcH-1J"
   },
   "outputs": [],
   "source": [
    "from sklearn.preprocessing import LabelEncoder"
   ]
  },
  {
   "cell_type": "code",
   "execution_count": 10,
   "metadata": {
    "colab": {
     "base_uri": "https://localhost:8080/",
     "height": 368
    },
    "executionInfo": {
     "elapsed": 1104,
     "status": "error",
     "timestamp": 1617777535872,
     "user": {
      "displayName": "Alexander Gornostaev",
      "photoUrl": "https://lh3.googleusercontent.com/a-/AOh14GjcMiGmZYjEUIvv9b6TGo9EzICuXgq4cO4i0hM4CQ=s64",
      "userId": "08333125887748164475"
     },
     "user_tz": -180
    },
    "id": "swrVVop9H-1J",
    "outputId": "e604b754-ccc2-4f60-a052-8f666bab9ae3"
   },
   "outputs": [],
   "source": [
    "## Если не хотите долго ждать - не убирайте комментарии\n",
    "# !pip install tsfresh\n",
    "\n",
    "\n",
    "# import tsfresh\n",
    "# from tsfresh.feature_extraction import extract_features\n",
    "# from tsfresh.feature_selection import select_features\n",
    "# from tsfresh.utilities.dataframe_functions import impute\n",
    "# from tsfresh.feature_extraction import ComprehensiveFCParameters, MinimalFCParameters, settings, EfficientFCParameters\n",
    "\n",
    "\n",
    "# sign_features = extract_features(df_database, column_id='id', column_sort='time',\n",
    "#                                  default_fc_parameters=EfficientFCParameters(),\n",
    "#                                  impute_function=impute)\n",
    "\n",
    "enc = LabelEncoder()\n",
    "enc.fit(sign_classes.loc[:, 'class'])\n",
    "sign_classes.loc[:, 'target'] = enc.transform(sign_classes.loc[:, 'class'])\n",
    "\n",
    "# sign_features_filtered = select_features(sign_features, sign_classes.loc[:, 'target'])\n",
    "\n",
    "# filepath = './data/tsfresh_features_filt.csv.gz'\n",
    "# sign_features_filtered.to_csv(filepath, compression='gzip')"
   ]
  },
  {
   "cell_type": "code",
   "execution_count": 63,
   "metadata": {
    "id": "HrDJy0shH-1J"
   },
   "outputs": [
    {
     "name": "stdout",
     "output_type": "stream",
     "text": [
      "mkdir: ./data: File exists\n",
      "--2021-04-07 11:02:46--  https://www.dropbox.com/s/x6b9mqxlw5ijcuf/tsfresh_features_filt.csv.gz?dl=0\n",
      "Resolving www.dropbox.com (www.dropbox.com)... 162.125.71.18\n",
      "Connecting to www.dropbox.com (www.dropbox.com)|162.125.71.18|:443... connected.\n",
      "HTTP request sent, awaiting response... 301 Moved Permanently\n",
      "Location: /s/raw/x6b9mqxlw5ijcuf/tsfresh_features_filt.csv.gz [following]\n",
      "--2021-04-07 11:02:47--  https://www.dropbox.com/s/raw/x6b9mqxlw5ijcuf/tsfresh_features_filt.csv.gz\n",
      "Reusing existing connection to www.dropbox.com:443.\n",
      "HTTP request sent, awaiting response... 302 Found\n",
      "Location: https://ucdf8a4d77eb81afb64c1ff7c0df.dl.dropboxusercontent.com/cd/0/inline/BMIRsiqH02UF1p-pXpZo1alCAizohgUvQ2FHVugQryjVbx13UOI_I8f1Pj5m-lWVJ03JdDVUTFlPBWDnCIcRkJWpwn2n92g-5BldQGMEu7HewwfpmUSi4u8IHGVHlTIgR-waGBsVQkP4o1CAyGPHoFfC/file# [following]\n",
      "--2021-04-07 11:02:47--  https://ucdf8a4d77eb81afb64c1ff7c0df.dl.dropboxusercontent.com/cd/0/inline/BMIRsiqH02UF1p-pXpZo1alCAizohgUvQ2FHVugQryjVbx13UOI_I8f1Pj5m-lWVJ03JdDVUTFlPBWDnCIcRkJWpwn2n92g-5BldQGMEu7HewwfpmUSi4u8IHGVHlTIgR-waGBsVQkP4o1CAyGPHoFfC/file\n",
      "Resolving ucdf8a4d77eb81afb64c1ff7c0df.dl.dropboxusercontent.com (ucdf8a4d77eb81afb64c1ff7c0df.dl.dropboxusercontent.com)... 162.125.71.15\n",
      "Connecting to ucdf8a4d77eb81afb64c1ff7c0df.dl.dropboxusercontent.com (ucdf8a4d77eb81afb64c1ff7c0df.dl.dropboxusercontent.com)|162.125.71.15|:443... connected.\n",
      "HTTP request sent, awaiting response... 302 Found\n",
      "Location: /cd/0/inline2/BMKXpfsRwacwtJdiM2I9uGlkbJ-9FHA3WOSF4oNjNh_3RguFJcJ2J0u1b4VfWArdyxHAeTFKW7jUMXhJ_2TgShP3vM0q1MOVaQ_wBQU7p1VzM2Y-MmUIfKpsdHSi7-WEcQVI8ukjd6Ym40awwGu6FETAVSaetQ-cj-tLwjz3NtXe2pkTmt9-NvzpouLgprOa0_Se9NGablSORcLhEBwyCyJ4z7yRQZJ_K62R9AWCkPCSzDQgAUZg-zRWrrUV_ZiBbxEsr_Y5q6n5D9--_8JToZmET8j5OlixpGfbv_qqyF_2frGMaxRw_1bK2qH0UM-wZ1mRST8I9Iyc7I1UAhIeC6ZVlrGWY-slq_tvrJXsMyiPh_Q6CrHu8DcVgv7e_Rhb_po/file [following]\n",
      "--2021-04-07 11:02:48--  https://ucdf8a4d77eb81afb64c1ff7c0df.dl.dropboxusercontent.com/cd/0/inline2/BMKXpfsRwacwtJdiM2I9uGlkbJ-9FHA3WOSF4oNjNh_3RguFJcJ2J0u1b4VfWArdyxHAeTFKW7jUMXhJ_2TgShP3vM0q1MOVaQ_wBQU7p1VzM2Y-MmUIfKpsdHSi7-WEcQVI8ukjd6Ym40awwGu6FETAVSaetQ-cj-tLwjz3NtXe2pkTmt9-NvzpouLgprOa0_Se9NGablSORcLhEBwyCyJ4z7yRQZJ_K62R9AWCkPCSzDQgAUZg-zRWrrUV_ZiBbxEsr_Y5q6n5D9--_8JToZmET8j5OlixpGfbv_qqyF_2frGMaxRw_1bK2qH0UM-wZ1mRST8I9Iyc7I1UAhIeC6ZVlrGWY-slq_tvrJXsMyiPh_Q6CrHu8DcVgv7e_Rhb_po/file\n",
      "Reusing existing connection to ucdf8a4d77eb81afb64c1ff7c0df.dl.dropboxusercontent.com:443.\n",
      "HTTP request sent, awaiting response... 200 OK\n",
      "Length: 198183650 (189M) [application/octet-stream]\n",
      "Saving to: ‘./data/tsfresh_features_filt.csv.gz’\n",
      "\n",
      "./data/tsfresh_feat 100%[===================>] 189,00M  4,32MB/s    in 51s     \n",
      "\n",
      "2021-04-07 11:03:40 (3,71 MB/s) - ‘./data/tsfresh_features_filt.csv.gz’ saved [198183650/198183650]\n",
      "\n"
     ]
    }
   ],
   "source": [
    "!mkdir ./data\n",
    "!wget https://www.dropbox.com/s/x6b9mqxlw5ijcuf/tsfresh_features_filt.csv.gz?dl=0 -O ./data/tsfresh_features_filt.csv.gz\n",
    "filepath = './data/tsfresh_features_filt.csv.gz'\n",
    "sign_features_filtered = pd.read_csv(filepath)"
   ]
  },
  {
   "cell_type": "code",
   "execution_count": 64,
   "metadata": {
    "id": "eYX-dxTiH-1K"
   },
   "outputs": [
    {
     "data": {
      "text/plain": [
       "(2565, 11517)"
      ]
     },
     "execution_count": 64,
     "metadata": {},
     "output_type": "execute_result"
    }
   ],
   "source": [
    "sign_features_filtered.shape"
   ]
  },
  {
   "cell_type": "code",
   "execution_count": 65,
   "metadata": {
    "id": "FGK4jwsXH-1K"
   },
   "outputs": [
    {
     "data": {
      "text/html": [
       "<div>\n",
       "<style scoped>\n",
       "    .dataframe tbody tr th:only-of-type {\n",
       "        vertical-align: middle;\n",
       "    }\n",
       "\n",
       "    .dataframe tbody tr th {\n",
       "        vertical-align: top;\n",
       "    }\n",
       "\n",
       "    .dataframe thead th {\n",
       "        text-align: right;\n",
       "    }\n",
       "</style>\n",
       "<table border=\"1\" class=\"dataframe\">\n",
       "  <thead>\n",
       "    <tr style=\"text-align: right;\">\n",
       "      <th></th>\n",
       "      <th>Unnamed: 0</th>\n",
       "      <th>ring_r__maximum</th>\n",
       "      <th>ring_r__agg_linear_trend__attr_\"intercept\"__chunk_len_50__f_agg_\"max\"</th>\n",
       "      <th>ring_r__agg_linear_trend__attr_\"stderr\"__chunk_len_5__f_agg_\"mean\"</th>\n",
       "      <th>ring_r__fft_coefficient__attr_\"abs\"__coeff_2</th>\n",
       "      <th>ring_r__linear_trend__attr_\"stderr\"</th>\n",
       "      <th>ring_r__quantile__q_0.9</th>\n",
       "      <th>ring_r__agg_linear_trend__attr_\"stderr\"__chunk_len_5__f_agg_\"max\"</th>\n",
       "      <th>ring_r__variance</th>\n",
       "      <th>ring_r__standard_deviation</th>\n",
       "      <th>...</th>\n",
       "      <th>forefinger_l__large_standard_deviation__r_0.15000000000000002</th>\n",
       "      <th>little_r__symmetry_looking__r_0.15000000000000002</th>\n",
       "      <th>z_l__symmetry_looking__r_0.35000000000000003</th>\n",
       "      <th>roll_r__large_standard_deviation__r_0.25</th>\n",
       "      <th>roll_r__large_standard_deviation__r_0.45</th>\n",
       "      <th>little_r__symmetry_looking__r_0.05</th>\n",
       "      <th>pitch_l__symmetry_looking__r_0.05</th>\n",
       "      <th>z_l__large_standard_deviation__r_0.45</th>\n",
       "      <th>little_l__symmetry_looking__r_0.05</th>\n",
       "      <th>y_l__symmetry_looking__r_0.35000000000000003</th>\n",
       "    </tr>\n",
       "  </thead>\n",
       "  <tbody>\n",
       "    <tr>\n",
       "      <th>0</th>\n",
       "      <td>0</td>\n",
       "      <td>0.014764</td>\n",
       "      <td>0.998626</td>\n",
       "      <td>0.000174</td>\n",
       "      <td>0.047854</td>\n",
       "      <td>0.000034</td>\n",
       "      <td>0.006166</td>\n",
       "      <td>0.000423</td>\n",
       "      <td>0.000015</td>\n",
       "      <td>0.003881</td>\n",
       "      <td>...</td>\n",
       "      <td>1.0</td>\n",
       "      <td>1.0</td>\n",
       "      <td>1.0</td>\n",
       "      <td>1.0</td>\n",
       "      <td>0.0</td>\n",
       "      <td>0.0</td>\n",
       "      <td>0.0</td>\n",
       "      <td>0.0</td>\n",
       "      <td>0.0</td>\n",
       "      <td>1.0</td>\n",
       "    </tr>\n",
       "    <tr>\n",
       "      <th>1</th>\n",
       "      <td>1</td>\n",
       "      <td>0.017579</td>\n",
       "      <td>0.017579</td>\n",
       "      <td>0.000180</td>\n",
       "      <td>0.045183</td>\n",
       "      <td>0.000027</td>\n",
       "      <td>0.003599</td>\n",
       "      <td>0.000397</td>\n",
       "      <td>0.000012</td>\n",
       "      <td>0.003399</td>\n",
       "      <td>...</td>\n",
       "      <td>1.0</td>\n",
       "      <td>0.0</td>\n",
       "      <td>1.0</td>\n",
       "      <td>0.0</td>\n",
       "      <td>0.0</td>\n",
       "      <td>0.0</td>\n",
       "      <td>0.0</td>\n",
       "      <td>0.0</td>\n",
       "      <td>0.0</td>\n",
       "      <td>1.0</td>\n",
       "    </tr>\n",
       "    <tr>\n",
       "      <th>2</th>\n",
       "      <td>2</td>\n",
       "      <td>0.043917</td>\n",
       "      <td>0.043917</td>\n",
       "      <td>0.000737</td>\n",
       "      <td>0.059952</td>\n",
       "      <td>0.000092</td>\n",
       "      <td>0.028252</td>\n",
       "      <td>0.001034</td>\n",
       "      <td>0.000142</td>\n",
       "      <td>0.011921</td>\n",
       "      <td>...</td>\n",
       "      <td>1.0</td>\n",
       "      <td>1.0</td>\n",
       "      <td>1.0</td>\n",
       "      <td>0.0</td>\n",
       "      <td>0.0</td>\n",
       "      <td>0.0</td>\n",
       "      <td>0.0</td>\n",
       "      <td>0.0</td>\n",
       "      <td>0.0</td>\n",
       "      <td>1.0</td>\n",
       "    </tr>\n",
       "    <tr>\n",
       "      <th>3</th>\n",
       "      <td>3</td>\n",
       "      <td>0.000000</td>\n",
       "      <td>0.000000</td>\n",
       "      <td>0.000000</td>\n",
       "      <td>0.000000</td>\n",
       "      <td>0.000000</td>\n",
       "      <td>0.000000</td>\n",
       "      <td>0.000000</td>\n",
       "      <td>0.000000</td>\n",
       "      <td>0.000000</td>\n",
       "      <td>...</td>\n",
       "      <td>1.0</td>\n",
       "      <td>0.0</td>\n",
       "      <td>1.0</td>\n",
       "      <td>1.0</td>\n",
       "      <td>0.0</td>\n",
       "      <td>0.0</td>\n",
       "      <td>0.0</td>\n",
       "      <td>0.0</td>\n",
       "      <td>0.0</td>\n",
       "      <td>1.0</td>\n",
       "    </tr>\n",
       "    <tr>\n",
       "      <th>4</th>\n",
       "      <td>4</td>\n",
       "      <td>0.061037</td>\n",
       "      <td>0.061037</td>\n",
       "      <td>0.001453</td>\n",
       "      <td>0.402618</td>\n",
       "      <td>0.000127</td>\n",
       "      <td>0.047034</td>\n",
       "      <td>0.001777</td>\n",
       "      <td>0.000314</td>\n",
       "      <td>0.017728</td>\n",
       "      <td>...</td>\n",
       "      <td>1.0</td>\n",
       "      <td>0.0</td>\n",
       "      <td>1.0</td>\n",
       "      <td>0.0</td>\n",
       "      <td>0.0</td>\n",
       "      <td>0.0</td>\n",
       "      <td>0.0</td>\n",
       "      <td>0.0</td>\n",
       "      <td>0.0</td>\n",
       "      <td>1.0</td>\n",
       "    </tr>\n",
       "  </tbody>\n",
       "</table>\n",
       "<p>5 rows × 11517 columns</p>\n",
       "</div>"
      ],
      "text/plain": [
       "   Unnamed: 0  ring_r__maximum  \\\n",
       "0           0         0.014764   \n",
       "1           1         0.017579   \n",
       "2           2         0.043917   \n",
       "3           3         0.000000   \n",
       "4           4         0.061037   \n",
       "\n",
       "   ring_r__agg_linear_trend__attr_\"intercept\"__chunk_len_50__f_agg_\"max\"  \\\n",
       "0                                           0.998626                       \n",
       "1                                           0.017579                       \n",
       "2                                           0.043917                       \n",
       "3                                           0.000000                       \n",
       "4                                           0.061037                       \n",
       "\n",
       "   ring_r__agg_linear_trend__attr_\"stderr\"__chunk_len_5__f_agg_\"mean\"  \\\n",
       "0                                           0.000174                    \n",
       "1                                           0.000180                    \n",
       "2                                           0.000737                    \n",
       "3                                           0.000000                    \n",
       "4                                           0.001453                    \n",
       "\n",
       "   ring_r__fft_coefficient__attr_\"abs\"__coeff_2  \\\n",
       "0                                      0.047854   \n",
       "1                                      0.045183   \n",
       "2                                      0.059952   \n",
       "3                                      0.000000   \n",
       "4                                      0.402618   \n",
       "\n",
       "   ring_r__linear_trend__attr_\"stderr\"  ring_r__quantile__q_0.9  \\\n",
       "0                             0.000034                 0.006166   \n",
       "1                             0.000027                 0.003599   \n",
       "2                             0.000092                 0.028252   \n",
       "3                             0.000000                 0.000000   \n",
       "4                             0.000127                 0.047034   \n",
       "\n",
       "   ring_r__agg_linear_trend__attr_\"stderr\"__chunk_len_5__f_agg_\"max\"  \\\n",
       "0                                           0.000423                   \n",
       "1                                           0.000397                   \n",
       "2                                           0.001034                   \n",
       "3                                           0.000000                   \n",
       "4                                           0.001777                   \n",
       "\n",
       "   ring_r__variance  ring_r__standard_deviation  ...  \\\n",
       "0          0.000015                    0.003881  ...   \n",
       "1          0.000012                    0.003399  ...   \n",
       "2          0.000142                    0.011921  ...   \n",
       "3          0.000000                    0.000000  ...   \n",
       "4          0.000314                    0.017728  ...   \n",
       "\n",
       "   forefinger_l__large_standard_deviation__r_0.15000000000000002  \\\n",
       "0                                                1.0               \n",
       "1                                                1.0               \n",
       "2                                                1.0               \n",
       "3                                                1.0               \n",
       "4                                                1.0               \n",
       "\n",
       "   little_r__symmetry_looking__r_0.15000000000000002  \\\n",
       "0                                                1.0   \n",
       "1                                                0.0   \n",
       "2                                                1.0   \n",
       "3                                                0.0   \n",
       "4                                                0.0   \n",
       "\n",
       "   z_l__symmetry_looking__r_0.35000000000000003  \\\n",
       "0                                           1.0   \n",
       "1                                           1.0   \n",
       "2                                           1.0   \n",
       "3                                           1.0   \n",
       "4                                           1.0   \n",
       "\n",
       "   roll_r__large_standard_deviation__r_0.25  \\\n",
       "0                                       1.0   \n",
       "1                                       0.0   \n",
       "2                                       0.0   \n",
       "3                                       1.0   \n",
       "4                                       0.0   \n",
       "\n",
       "   roll_r__large_standard_deviation__r_0.45  \\\n",
       "0                                       0.0   \n",
       "1                                       0.0   \n",
       "2                                       0.0   \n",
       "3                                       0.0   \n",
       "4                                       0.0   \n",
       "\n",
       "   little_r__symmetry_looking__r_0.05  pitch_l__symmetry_looking__r_0.05  \\\n",
       "0                                 0.0                                0.0   \n",
       "1                                 0.0                                0.0   \n",
       "2                                 0.0                                0.0   \n",
       "3                                 0.0                                0.0   \n",
       "4                                 0.0                                0.0   \n",
       "\n",
       "   z_l__large_standard_deviation__r_0.45  little_l__symmetry_looking__r_0.05  \\\n",
       "0                                    0.0                                 0.0   \n",
       "1                                    0.0                                 0.0   \n",
       "2                                    0.0                                 0.0   \n",
       "3                                    0.0                                 0.0   \n",
       "4                                    0.0                                 0.0   \n",
       "\n",
       "   y_l__symmetry_looking__r_0.35000000000000003  \n",
       "0                                           1.0  \n",
       "1                                           1.0  \n",
       "2                                           1.0  \n",
       "3                                           1.0  \n",
       "4                                           1.0  \n",
       "\n",
       "[5 rows x 11517 columns]"
      ]
     },
     "execution_count": 65,
     "metadata": {},
     "output_type": "execute_result"
    }
   ],
   "source": [
    "sign_features_filtered.head()"
   ]
  },
  {
   "cell_type": "markdown",
   "metadata": {
    "id": "p4F0NxFlH-1K"
   },
   "source": [
    "## Базовая модель"
   ]
  },
  {
   "cell_type": "markdown",
   "metadata": {
    "id": "e_svYUXwH-1K"
   },
   "source": [
    "В результате у нас получилось очень много признаков (11516 или больше), давайте применим метод главных компонент, чтобы получить сжатое признаковое представление, сохранив при этом предиктивную силу в модели."
   ]
  },
  {
   "cell_type": "code",
   "execution_count": 14,
   "metadata": {
    "id": "nYZ9izxuH-1L"
   },
   "outputs": [],
   "source": [
    "from sklearn.model_selection import cross_val_score\n",
    "from sklearn.model_selection import StratifiedKFold\n",
    "from sklearn.neighbors import KNeighborsClassifier\n",
    "from sklearn.decomposition import PCA\n",
    "from sklearn.preprocessing import StandardScaler\n",
    "from sklearn.pipeline import Pipeline"
   ]
  },
  {
   "cell_type": "markdown",
   "metadata": {
    "id": "G5oGHM1HH-1L"
   },
   "source": [
    "Создадим бейзлайн без уменьшения размерности. Гиперпараметры модели подбирались произвольно"
   ]
  },
  {
   "cell_type": "code",
   "execution_count": 15,
   "metadata": {
    "id": "qXikpeZhH-1L"
   },
   "outputs": [],
   "source": [
    "# Подготовим данные на вход в модель\n",
    "\n",
    "# признаки\n",
    "X = sign_features_filtered.values\n",
    "\n",
    "# классы\n",
    "y = sign_classes.target.values"
   ]
  },
  {
   "cell_type": "code",
   "execution_count": 16,
   "metadata": {
    "id": "CTkwLbjJH-1M"
   },
   "outputs": [],
   "source": [
    "# Будем делать кросс-валидацию на 5 фолдов\n",
    "cv = StratifiedKFold(n_splits=5, shuffle=True, random_state=123)\n",
    "\n",
    "base_model = Pipeline([\n",
    "    ('scaler', StandardScaler()),\n",
    "    ('clf', KNeighborsClassifier(n_neighbors=9))\n",
    "])\n",
    "\n",
    "base_cv_scores = cross_val_score(base_model, X, y, cv=cv, scoring='accuracy')"
   ]
  },
  {
   "cell_type": "code",
   "execution_count": 123,
   "metadata": {
    "id": "4NV7eCQnH-1M"
   },
   "outputs": [
    {
     "data": {
      "text/plain": [
       "0.819493177387914"
      ]
     },
     "execution_count": 123,
     "metadata": {},
     "output_type": "execute_result"
    }
   ],
   "source": [
    "base_cv_scores = cross_val_score(base_model, X, y, cv=cv, scoring='accuracy')\n",
    "base_cv_scores.mean()"
   ]
  },
  {
   "cell_type": "markdown",
   "metadata": {
    "id": "dJXKs294H-1M"
   },
   "source": [
    "## Метод главных компонент (5 баллов)"
   ]
  },
  {
   "cell_type": "markdown",
   "metadata": {
    "id": "GUCiLetEH-1N"
   },
   "source": [
    "* (1) Добавьте в пайплайн `base_model` шаг с методом главных компонент. Начиная с версии 0.18 в sklearn добавили разные солверы для PCA. Дополнитенльно задайте в модели следующие параметры: `svd_solder = \"randomized\"` и `random_state=123`. Остальные гиперпараметры модели и способ кросс-валидации оставьте без изменений\n",
    "* (1 + 2) Найдите такое наименьшее количество главных компонент, что качество нового пайплайна превыcит 90%. За +2 бала найдите решение не полным перебором\n",
    "* (1) Укажите долю объяснённой дисперсии при найденной настройке PCA  (для этого надо обучить PCA на всех данных). Долю объясненной диспекрии можно найти в атрибуте `explained_variance_ratio`"
   ]
  },
  {
   "cell_type": "markdown",
   "metadata": {},
   "source": [
    "#### 1. Настройка base_model"
   ]
  },
  {
   "cell_type": "code",
   "execution_count": 122,
   "metadata": {},
   "outputs": [],
   "source": [
    "base_model = Pipeline([\n",
    "    ('scaler', StandardScaler()),\n",
    "    ('pca', PCA(n_components=20, svd_solver=\"randomized\", random_state=123)),\n",
    "    ('clf', KNeighborsClassifier(n_neighbors=9))\n",
    "])"
   ]
  },
  {
   "cell_type": "markdown",
   "metadata": {},
   "source": [
    "#### 2. Минимальное число n_components для score > 0.9\n",
    "Для решения этой задачи можно построить для всей выборки график зависимости значения объясненённой дисперсии от количества компонент. Тогда можно будет построить график производной полученной зависимости. Тогда, если будет место резкого перелома, можно будет определить минимальное количество компонент, не перебирая все возможные количества компонент."
   ]
  },
  {
   "cell_type": "markdown",
   "metadata": {},
   "source": [
    "##### 1. График объяснённой дисперсии для максимального возможного количества компонент"
   ]
  },
  {
   "cell_type": "code",
   "execution_count": 167,
   "metadata": {},
   "outputs": [
    {
     "data": {
      "text/plain": [
       "Pipeline(steps=[('scaler', StandardScaler()),\n",
       "                ('pca', PCA(random_state=123, svd_solver='randomized')),\n",
       "                ('clf', KNeighborsClassifier(n_neighbors=9))])"
      ]
     },
     "execution_count": 167,
     "metadata": {},
     "output_type": "execute_result"
    }
   ],
   "source": [
    "base_model.set_params(pca__n_components = None)\n",
    "base_model.fit(X, y)"
   ]
  },
  {
   "cell_type": "code",
   "execution_count": 174,
   "metadata": {},
   "outputs": [],
   "source": [
    "variance_ratio = base_model['pca'].explained_variance_ratio_"
   ]
  },
  {
   "cell_type": "code",
   "execution_count": 149,
   "metadata": {},
   "outputs": [
    {
     "data": {
      "text/plain": [
       "[<matplotlib.lines.Line2D at 0x7fd36b5c9df0>]"
      ]
     },
     "execution_count": 149,
     "metadata": {},
     "output_type": "execute_result"
    },
    {
     "data": {
      "image/png": "[encoded data removed]",
      "text/plain": [
       "<Figure size 1080x720 with 1 Axes>"
      ]
     },
     "metadata": {
      "needs_background": "light"
     },
     "output_type": "display_data"
    }
   ],
   "source": [
    "fig = plt.figure()\n",
    "ax = fig.add_subplot(1,1,1)\n",
    "ax.set_title('explained variance ratio for {} components'.format(variance_ratio.size))\n",
    "ax.set_xticks(np.arange(0, variance_ratio.size + 1, 20))\n",
    "ax.grid(axis='x')\n",
    "ax.set_xlim((0, 200))\n",
    "ax.set_xlabel(\"components\")\n",
    "ax.plot(np.arange(1, variance_ratio.size + 1), variance_ratio)"
   ]
  },
  {
   "cell_type": "markdown",
   "metadata": {},
   "source": [
    "##### 2. Производная объясненной дисперсии (процентной)"
   ]
  },
  {
   "cell_type": "code",
   "execution_count": 203,
   "metadata": {},
   "outputs": [],
   "source": [
    "variance_diffs = np.array(list(map(lambda x: x[1] - x[0], zip(variance_ratio[:-1], variance_ratio[1:]))))"
   ]
  },
  {
   "cell_type": "code",
   "execution_count": 204,
   "metadata": {},
   "outputs": [
    {
     "data": {
      "text/plain": [
       "array([-2.88970462e-02, -2.95150289e-02, -3.09839727e-03, ...,\n",
       "       -7.24464738e-08, -7.21439200e-09, -3.02194802e-06])"
      ]
     },
     "execution_count": 204,
     "metadata": {},
     "output_type": "execute_result"
    }
   ],
   "source": [
    "variance_diffs"
   ]
  },
  {
   "cell_type": "code",
   "execution_count": 205,
   "metadata": {},
   "outputs": [
    {
     "data": {
      "text/plain": [
       "[<matplotlib.lines.Line2D at 0x7fd357508f10>]"
      ]
     },
     "execution_count": 205,
     "metadata": {},
     "output_type": "execute_result"
    },
    {
     "data": {
      "image/png": "[encoded data removed]",
      "text/plain": [
       "<Figure size 1080x720 with 1 Axes>"
      ]
     },
     "metadata": {
      "needs_background": "light"
     },
     "output_type": "display_data"
    }
   ],
   "source": [
    "fig = plt.figure()\n",
    "ax = fig.add_subplot(1,1,1)\n",
    "ax.set_title('differences of variance ratio for {} components'.format(variance_diffs.size))\n",
    "ax.set_xticks(np.arange(0, variance_diffs.size + 1, 50))\n",
    "ax.grid(axis='x')\n",
    "ax.set_xlim((0, 600))\n",
    "ax.set_xlabel(\"components\")\n",
    "ax.plot(np.arange(1, variance_diffs.size + 1), variance_diffs)"
   ]
  },
  {
   "cell_type": "markdown",
   "metadata": {},
   "source": [
    "Проверим число 50"
   ]
  },
  {
   "cell_type": "code",
   "execution_count": 195,
   "metadata": {
    "id": "IHeSJw5GH-1N"
   },
   "outputs": [],
   "source": [
    "# Your Code Here\n",
    "base_model.set_params(pca__n_components = 50)\n",
    "cv_score = cross_val_score(base_model, X, y, cv=cv, scoring='accuracy')"
   ]
  },
  {
   "cell_type": "code",
   "execution_count": null,
   "metadata": {},
   "outputs": [],
   "source": [
    "min(cv_score)"
   ]
  },
  {
   "cell_type": "markdown",
   "metadata": {},
   "source": [
    "Качество высоко - но недостаточно по заданию. Проверим еще график накопленной дисперсии."
   ]
  },
  {
   "cell_type": "markdown",
   "metadata": {},
   "source": [
    "##### 3. График кумулятивной объяснённой дисперсии"
   ]
  },
  {
   "cell_type": "code",
   "execution_count": 175,
   "metadata": {},
   "outputs": [],
   "source": [
    "variance_sums = np.cumsum(variance_ratio)"
   ]
  },
  {
   "cell_type": "code",
   "execution_count": 177,
   "metadata": {},
   "outputs": [
    {
     "data": {
      "text/plain": [
       "array([0.09280647, 0.15671589, 0.19111028, ..., 0.99999698, 1.        ,\n",
       "       1.        ])"
      ]
     },
     "execution_count": 177,
     "metadata": {},
     "output_type": "execute_result"
    }
   ],
   "source": [
    "variance_sums"
   ]
  },
  {
   "cell_type": "code",
   "execution_count": 186,
   "metadata": {},
   "outputs": [
    {
     "data": {
      "text/plain": [
       "[<matplotlib.lines.Line2D at 0x7fd356db1af0>]"
      ]
     },
     "execution_count": 186,
     "metadata": {},
     "output_type": "execute_result"
    },
    {
     "data": {
      "image/png": "[encoded data removed]",
      "text/plain": [
       "<Figure size 1080x720 with 1 Axes>"
      ]
     },
     "metadata": {
      "needs_background": "light"
     },
     "output_type": "display_data"
    }
   ],
   "source": [
    "fig = plt.figure()\n",
    "ax = fig.add_subplot(1,1,1)\n",
    "ax.set_title('cumulative variance ratio for {} components'.format(variance_sums.size))\n",
    "ax.set_xticks(np.arange(0, variance_sums.size + 1, 50))\n",
    "ax.grid()\n",
    "ax.set_xlim((0, 1000))\n",
    "ax.set_xlabel(\"components\")\n",
    "ax.set_yticks(np.arange(0, 1.1, 0.05))\n",
    "ax.plot(np.arange(1, variance_sums.size + 1), variance_sums)"
   ]
  },
  {
   "cell_type": "markdown",
   "metadata": {},
   "source": [
    "##### 4. Решение, что делать"
   ]
  },
  {
   "cell_type": "markdown",
   "metadata": {},
   "source": [
    " По графику производной, можно было бы предположить, что 50 - неплохой стартовый вариант для перебора в целях уточнения хорошего числа компонент. По кумулятивному же графику видно, что никаких резких скачков качества после 50 уже нет. Далее можно лишь уточнять качество с помощью перебора. \n",
    " Проверим n_components = 50"
   ]
  },
  {
   "cell_type": "code",
   "execution_count": 216,
   "metadata": {
    "id": "IHeSJw5GH-1N"
   },
   "outputs": [],
   "source": [
    "# Your Code Here\n",
    "def score_for_components(components):\n",
    "    base_model.set_params(pca__n_components = components)\n",
    "    return min(cross_val_score(base_model, X, y, cv=cv, scoring='accuracy'))"
   ]
  },
  {
   "cell_type": "code",
   "execution_count": null,
   "metadata": {},
   "outputs": [],
   "source": [
    "score_for_components(50)"
   ]
  },
  {
   "cell_type": "markdown",
   "metadata": {},
   "source": [
    "Это качество недостаточно высоко.\n",
    "Проверим качество для количества компонент, дающих 90 % объясснённой дисперсии (не то чтобы процент обхясненной дисперсии был прямо связан с качеством, но он всё же связан)"
   ]
  },
  {
   "cell_type": "code",
   "execution_count": 212,
   "metadata": {},
   "outputs": [],
   "source": [
    "arg_90 = None\n",
    "for n, var in zip(np.arange(1, variance_sums.size + 1), variance_sums):\n",
    "    if (var >= 0.9):\n",
    "        arg_90 = n\n",
    "        break"
   ]
  },
  {
   "cell_type": "code",
   "execution_count": 213,
   "metadata": {},
   "outputs": [
    {
     "data": {
      "text/plain": [
       "656"
      ]
     },
     "execution_count": 213,
     "metadata": {},
     "output_type": "execute_result"
    }
   ],
   "source": [
    "arg_90"
   ]
  },
  {
   "cell_type": "code",
   "execution_count": 217,
   "metadata": {},
   "outputs": [
    {
     "data": {
      "text/plain": [
       "0.9005847953216374"
      ]
     },
     "execution_count": 217,
     "metadata": {},
     "output_type": "execute_result"
    }
   ],
   "source": [
    "score_for_components(arg_90)"
   ]
  },
  {
   "cell_type": "code",
   "execution_count": 224,
   "metadata": {},
   "outputs": [
    {
     "data": {
      "text/plain": [
       "0.9083820662768031"
      ]
     },
     "execution_count": 224,
     "metadata": {},
     "output_type": "execute_result"
    }
   ],
   "source": [
    "base_model.set_params(pca__n_components = 200)\n",
    "min(cross_val_score(base_model, X, y, cv=cv, scoring='accuracy'))"
   ]
  },
  {
   "cell_type": "markdown",
   "metadata": {},
   "source": [
    "Качество больше 0.9 достигается при 514 компонентах"
   ]
  },
  {
   "cell_type": "markdown",
   "metadata": {},
   "source": [
    "#### 3. Доля объективной дисперсии"
   ]
  },
  {
   "cell_type": "code",
   "execution_count": 111,
   "metadata": {},
   "outputs": [
    {
     "data": {
      "text/plain": [
       "Pipeline(steps=[('scaler', StandardScaler()),\n",
       "                ('pca',\n",
       "                 PCA(n_components=514, random_state=123,\n",
       "                     svd_solver='randomized')),\n",
       "                ('clf', KNeighborsClassifier(n_neighbors=9))])"
      ]
     },
     "execution_count": 111,
     "metadata": {},
     "output_type": "execute_result"
    }
   ],
   "source": [
    "base_model.set_params(pca__n_components=best_n_components)\n",
    "base_model.fit(X, y)"
   ]
  },
  {
   "cell_type": "code",
   "execution_count": 121,
   "metadata": {},
   "outputs": [
    {
     "data": {
      "text/plain": [
       "[<matplotlib.lines.Line2D at 0x7fd37764e130>]"
      ]
     },
     "execution_count": 121,
     "metadata": {},
     "output_type": "execute_result"
    },
    {
     "data": {
      "image/png": "[encoded data removed]",
      "text/plain": [
       "<Figure size 1080x720 with 1 Axes>"
      ]
     },
     "metadata": {
      "needs_background": "light"
     },
     "output_type": "display_data"
    }
   ],
   "source": [
    "fig = plt.figure()\n",
    "ax = fig.add_subplot(1, 1, 1)\n",
    "ax.set_xticks(np.arange(0, 514, 20))\n",
    "ax.grid()\n",
    "ax.plot(base_model['pca'].explained_variance_ratio_)"
   ]
  },
  {
   "cell_type": "code",
   "execution_count": 118,
   "metadata": {},
   "outputs": [
    {
     "data": {
      "text/plain": [
       "0.00021597254413225847"
      ]
     },
     "execution_count": 118,
     "metadata": {},
     "output_type": "execute_result"
    }
   ],
   "source": [
    "base_model['pca'].explained_variance_ratio_[best_n_components - 1]"
   ]
  },
  {
   "cell_type": "markdown",
   "metadata": {
    "id": "2gPvFEvpH-1N"
   },
   "source": [
    "# Задача про кластеризацию текстов"
   ]
  },
  {
   "cell_type": "markdown",
   "metadata": {
    "id": "YLl-H18WH-1N"
   },
   "source": [
    "Рассмотрим коллекцию новостных сообщений за первую половину 2017 года. Про каждое новостное сообщение известны:\n",
    "* его заголовок и текст\n",
    "* дата его публикации\n",
    "* событие, о котором это новостное сообщение написано \n",
    "* его рубрика "
   ]
  },
  {
   "cell_type": "code",
   "execution_count": 225,
   "metadata": {
    "id": "PAUdtRawH-1N"
   },
   "outputs": [
    {
     "data": {
      "text/html": [
       "<div>\n",
       "<style scoped>\n",
       "    .dataframe tbody tr th:only-of-type {\n",
       "        vertical-align: middle;\n",
       "    }\n",
       "\n",
       "    .dataframe tbody tr th {\n",
       "        vertical-align: top;\n",
       "    }\n",
       "\n",
       "    .dataframe thead th {\n",
       "        text-align: right;\n",
       "    }\n",
       "</style>\n",
       "<table border=\"1\" class=\"dataframe\">\n",
       "  <thead>\n",
       "    <tr style=\"text-align: right;\">\n",
       "      <th></th>\n",
       "      <th>text</th>\n",
       "      <th>date</th>\n",
       "      <th>event</th>\n",
       "      <th>class</th>\n",
       "    </tr>\n",
       "  </thead>\n",
       "  <tbody>\n",
       "    <tr>\n",
       "      <th>0</th>\n",
       "      <td>В ПЕТЕРБУРГЕ ПРОШЕЛ МИТИНГ ПРОТИВ ПЕРЕДАЧИ ИС...</td>\n",
       "      <td>2017-01-10</td>\n",
       "      <td>Передача РПЦ Исаакиевского собора</td>\n",
       "      <td>Внутренняя политика РФ</td>\n",
       "    </tr>\n",
       "    <tr>\n",
       "      <th>1</th>\n",
       "      <td>Lenta.co, Москва, 14 января 2017 СИТУАЦИЯ С П...</td>\n",
       "      <td>2017-01-10</td>\n",
       "      <td>Передача РПЦ Исаакиевского собора</td>\n",
       "      <td>Внутренняя политика РФ</td>\n",
       "    </tr>\n",
       "    <tr>\n",
       "      <th>2</th>\n",
       "      <td>Аргументы и Факты (aif.ru), Москва, 14 января...</td>\n",
       "      <td>2017-01-10</td>\n",
       "      <td>Передача РПЦ Исаакиевского собора</td>\n",
       "      <td>Внутренняя политика РФ</td>\n",
       "    </tr>\n",
       "    <tr>\n",
       "      <th>3</th>\n",
       "      <td>Google Новости ТОП, Москва, 14 января 2017 АК...</td>\n",
       "      <td>2017-01-10</td>\n",
       "      <td>Передача РПЦ Исаакиевского собора</td>\n",
       "      <td>Внутренняя политика РФ</td>\n",
       "    </tr>\n",
       "    <tr>\n",
       "      <th>4</th>\n",
       "      <td>Газета.Ru, Москва, 13 января 2017 В МОСКОВСКО...</td>\n",
       "      <td>2017-01-10</td>\n",
       "      <td>Передача РПЦ Исаакиевского собора</td>\n",
       "      <td>Внутренняя политика РФ</td>\n",
       "    </tr>\n",
       "  </tbody>\n",
       "</table>\n",
       "</div>"
      ],
      "text/plain": [
       "                                                text        date  \\\n",
       "0   В ПЕТЕРБУРГЕ ПРОШЕЛ МИТИНГ ПРОТИВ ПЕРЕДАЧИ ИС...  2017-01-10   \n",
       "1   Lenta.co, Москва, 14 января 2017 СИТУАЦИЯ С П...  2017-01-10   \n",
       "2   Аргументы и Факты (aif.ru), Москва, 14 января...  2017-01-10   \n",
       "3   Google Новости ТОП, Москва, 14 января 2017 АК...  2017-01-10   \n",
       "4   Газета.Ru, Москва, 13 января 2017 В МОСКОВСКО...  2017-01-10   \n",
       "\n",
       "                                event                   class  \n",
       "0  Передача РПЦ Исаакиевского собора   Внутренняя политика РФ  \n",
       "1  Передача РПЦ Исаакиевского собора   Внутренняя политика РФ  \n",
       "2  Передача РПЦ Исаакиевского собора   Внутренняя политика РФ  \n",
       "3  Передача РПЦ Исаакиевского собора   Внутренняя политика РФ  \n",
       "4  Передача РПЦ Исаакиевского собора   Внутренняя политика РФ  "
      ]
     },
     "execution_count": 225,
     "metadata": {},
     "output_type": "execute_result"
    }
   ],
   "source": [
    "df = pd.read_csv('../data/news.csv', encoding='utf8')\n",
    "df.head()"
   ]
  },
  {
   "cell_type": "code",
   "execution_count": 226,
   "metadata": {
    "id": "niQJ8FSAH-1N"
   },
   "outputs": [
    {
     "data": {
      "text/plain": [
       "Важные мировые события                           403\n",
       "Внутренняя политика РФ                           364\n",
       "Внутренняя политика РФ: оппозиция                277\n",
       "Теракты                                          200\n",
       "Международные отношения                          153\n",
       "Спорт                                            102\n",
       "Внутренняя политика: культура                    100\n",
       "Проишествия  РФ                                  100\n",
       "Спорт                                            100\n",
       "Международные отношения: Криминальная хроника     82\n",
       "Технологии                                        49\n",
       "Name: class, dtype: int64"
      ]
     },
     "execution_count": 226,
     "metadata": {},
     "output_type": "execute_result"
    }
   ],
   "source": [
    "df.loc[:, 'class'].value_counts()"
   ]
  },
  {
   "cell_type": "markdown",
   "metadata": {
    "id": "OAMmMrmCH-1O"
   },
   "source": [
    "Попробуем кластеризовать документы (каким-либо методом) и сравним полученное разбиение с данными рубликами с помощью ARI"
   ]
  },
  {
   "cell_type": "markdown",
   "metadata": {
    "id": "GN0w7WnrH-1O"
   },
   "source": [
    "## Стандартная предобработка текстов"
   ]
  },
  {
   "cell_type": "markdown",
   "metadata": {
    "id": "EU63g9UpH-1O"
   },
   "source": [
    "Ниже выполняется набор операций по предобработке текстов. Возможно на этом курсе про это не будет идти речь, однако идея довольно простая. Просто следите за комментариями =)"
   ]
  },
  {
   "cell_type": "code",
   "execution_count": 227,
   "metadata": {
    "id": "W1m0KD9lH-1O"
   },
   "outputs": [
    {
     "data": {
      "text/plain": [
       "' В ПЕТЕРБУРГЕ ПРОШЕЛ МИТИНГ ПРОТИВ ПЕРЕДАЧИ ИСААКИЕВСКОГО СОБОРА РПЦ В Санкт-Петербурге люди устроили акцию протеста против передачи Исаакиевского собора в безвозмездное пользование РПЦ. Жители Петербурга собрались на Исаакиевской площади, чтобы высказаться против передачи Исаакиевского собора в безвозмездное пользование РПЦ, передает ТАСС. Акция проходит в формате встречи с депутатами Законодательного собрания города и не требует согласования с властями. Участники акции не используют какую-либо символику и плакаты, а также мегафоны или средства звукоусиления. По словам депутата Алексея Ковалева, на Исаакиевскую площадь пришло примерно тысяча человек. Перед участниками протеста выступили депутаты местного парламента Борис Вишневский и Максим Резник, которые заявили о том, что потребуют отмены решения Смольного. Вишневский сообщил, что акция будет проходить в виде встречи депутатов с избирателями. \"Закон Санкт-Петербурга предоставляет нам право встречаться с избирателями, такую встречу мы и проведем, расскажем, как защищаем их интересы при передаче собора\", - сказал парламентарий. В свою очередь директор музея \"Исаакиевский собор\" Николай Буров проинформировал, что собор в пятницу будет закрыт намного раньше в связи с акцией протеста. Он подчеркнул, что необходимо избежать стычек между сторонниками передачи собора и ее противниками. Ранее стало известно, что собор передадут в безвозмездное пользование на 49 лет Русской православной церкви в лице Московского патриархата, при этом он останется в собственности Петербурга. Тем временем, в Петербурге продолжается сбор подписей под петицией об отмене данного решения, под документом уже поставили подписи более 160 тысяч человек. Комментарии Другие интересные статьи: http://kontrastniy.ru/obshchestvo/838-v-peterburge-proshel-miting-protiv-peredachi-isaakievskogo-sobora-rpts.html'"
      ]
     },
     "execution_count": 227,
     "metadata": {},
     "output_type": "execute_result"
    }
   ],
   "source": [
    "df.text[0] # Так выглядит первая статья до преобработки"
   ]
  },
  {
   "cell_type": "code",
   "execution_count": 228,
   "metadata": {
    "id": "odNZ27BDH-1O"
   },
   "outputs": [],
   "source": [
    "import re\n",
    "\n",
    "# Оставляем только кириллические символы\n",
    "regex = re.compile(u\"[А-Яа-я]+\")\n",
    "\n",
    "def words_only(text, regex=regex):\n",
    "    return \" \".join(regex.findall(text))\n",
    "\n",
    "\n",
    "df.text = df.text.str.lower()\n",
    "df.loc[:, 'text'] = df.text.apply(words_only)"
   ]
  },
  {
   "cell_type": "code",
   "execution_count": 231,
   "metadata": {
    "id": "w91h3UU4H-1O"
   },
   "outputs": [
    {
     "name": "stderr",
     "output_type": "stream",
     "text": [
      "[nltk_data] Downloading package stopwords to /Users/algor/nltk_data...\n",
      "[nltk_data]   Unzipping corpora/stopwords.zip.\n"
     ]
    },
    {
     "data": {
      "text/plain": [
       "True"
      ]
     },
     "execution_count": 231,
     "metadata": {},
     "output_type": "execute_result"
    }
   ],
   "source": [
    "import nltk\n",
    "nltk.download('stopwords')"
   ]
  },
  {
   "cell_type": "code",
   "execution_count": 232,
   "metadata": {
    "id": "zAQy98qiH-1P"
   },
   "outputs": [],
   "source": [
    "from nltk.corpus import stopwords\n",
    "\n",
    "# Удаляем стоп-слова\n",
    "mystopwords = stopwords.words('russian') + ['это', 'наш' , 'тыс', 'млн', 'млрд', u'также',  'т', 'д', '-', '-']\n",
    "\n",
    "def  remove_stopwords(text, mystopwords = mystopwords):\n",
    "    try:\n",
    "        return u\" \".join([token for token in text.split() if not token in mystopwords])\n",
    "    except:\n",
    "        return u\"\"\n",
    "    \n",
    "df.text = df.text.apply(remove_stopwords)   "
   ]
  },
  {
   "cell_type": "code",
   "execution_count": 233,
   "metadata": {
    "id": "CVkghCl2H-1P"
   },
   "outputs": [
    {
     "name": "stdout",
     "output_type": "stream",
     "text": [
      "Collecting pymystem3\n",
      "  Downloading pymystem3-0.2.0-py3-none-any.whl (10 kB)\n",
      "Requirement already satisfied: requests in /Users/algor/opt/anaconda3/lib/python3.8/site-packages (from pymystem3) (2.24.0)\n",
      "Requirement already satisfied: urllib3!=1.25.0,!=1.25.1,<1.26,>=1.21.1 in /Users/algor/opt/anaconda3/lib/python3.8/site-packages (from requests->pymystem3) (1.25.11)\n",
      "Requirement already satisfied: idna<3,>=2.5 in /Users/algor/opt/anaconda3/lib/python3.8/site-packages (from requests->pymystem3) (2.10)\n",
      "Requirement already satisfied: chardet<4,>=3.0.2 in /Users/algor/opt/anaconda3/lib/python3.8/site-packages (from requests->pymystem3) (3.0.4)\n",
      "Requirement already satisfied: certifi>=2017.4.17 in /Users/algor/opt/anaconda3/lib/python3.8/site-packages (from requests->pymystem3) (2020.6.20)\n",
      "Installing collected packages: pymystem3\n",
      "Successfully installed pymystem3-0.2.0\n",
      "--2021-04-07 17:37:28--  http://download.cdn.yandex.net/mystem/mystem-3.0-linux3.1-64bit.tar.gz\n",
      "Resolving download.cdn.yandex.net (download.cdn.yandex.net)... 5.45.205.245, 5.45.205.244, 5.45.205.241, ...\n",
      "Connecting to download.cdn.yandex.net (download.cdn.yandex.net)|5.45.205.245|:80... connected.\n",
      "HTTP request sent, awaiting response... 302 Found\n",
      "Location: http://cache-ektmts01.cdn.yandex.net/download.cdn.yandex.net/mystem/mystem-3.0-linux3.1-64bit.tar.gz [following]\n",
      "--2021-04-07 17:37:28--  http://cache-ektmts01.cdn.yandex.net/download.cdn.yandex.net/mystem/mystem-3.0-linux3.1-64bit.tar.gz\n",
      "Resolving cache-ektmts01.cdn.yandex.net (cache-ektmts01.cdn.yandex.net)... 5.45.240.10\n",
      "Connecting to cache-ektmts01.cdn.yandex.net (cache-ektmts01.cdn.yandex.net)|5.45.240.10|:80... connected.\n",
      "HTTP request sent, awaiting response... 200 OK\n",
      "Length: 16457938 (16M) [application/octet-stream]\n",
      "Saving to: ‘mystem-3.0-linux3.1-64bit.tar.gz’\n",
      "\n",
      "mystem-3.0-linux3.1 100%[===================>]  15,70M  15,6MB/s    in 1,0s    \n",
      "\n",
      "2021-04-07 17:37:30 (15,6 MB/s) - ‘mystem-3.0-linux3.1-64bit.tar.gz’ saved [16457938/16457938]\n",
      "\n",
      "x mystem\n",
      "cp: /root/.local/bin/mystem: No such file or directory\n"
     ]
    }
   ],
   "source": [
    "!pip install pymystem3\n",
    "!wget http://download.cdn.yandex.net/mystem/mystem-3.0-linux3.1-64bit.tar.gz\n",
    "!tar -xvf mystem-3.0-linux3.1-64bit.tar.gz\n",
    "!cp mystem /root/.local/bin/mystem"
   ]
  },
  {
   "cell_type": "code",
   "execution_count": 234,
   "metadata": {
    "id": "K_y1YOG5H-1P"
   },
   "outputs": [
    {
     "name": "stdout",
     "output_type": "stream",
     "text": [
      "CPU times: user 659 ms, sys: 3.72 s, total: 4.37 s\n",
      "Wall time: 6.81 s\n"
     ]
    }
   ],
   "source": [
    "%%time \n",
    "from pymystem3 import Mystem\n",
    "\n",
    "\n",
    "# нормализуем текст\n",
    "m = Mystem('/root/.local/bin/mystem')\n",
    "def lemmatize(text, mystem=m):\n",
    "    try:\n",
    "        return \"\".join(m.lemmatize(text)).strip()  \n",
    "    except:\n",
    "        return \" \"\n",
    "\n",
    "df.text = df.text.apply(lemmatize)"
   ]
  },
  {
   "cell_type": "code",
   "execution_count": 236,
   "metadata": {
    "id": "RZ_80i31H-1P"
   },
   "outputs": [],
   "source": [
    "mystoplemmas = [u'который', u'прошлый', u'сей', u'свой', u'наш', u'мочь']\n",
    "\n",
    "# Еще кое-что удаляем\n",
    "def  remove_stoplemmas(text, mystoplemmas = mystoplemmas):\n",
    "    try:\n",
    "        return \" \".join([token for token in text.split() if not token in mystoplemmas])\n",
    "    except:\n",
    "        return \"\"\n",
    "\n",
    "df.text = df.text.apply(remove_stoplemmas)  "
   ]
  },
  {
   "cell_type": "code",
   "execution_count": 237,
   "metadata": {
    "id": "xi6bv8gfH-1P"
   },
   "outputs": [
    {
     "data": {
      "text/plain": [
       "''"
      ]
     },
     "execution_count": 237,
     "metadata": {},
     "output_type": "execute_result"
    }
   ],
   "source": [
    "df.text[0] # так выгладит первая статья после предобработки"
   ]
  },
  {
   "cell_type": "markdown",
   "metadata": {
    "id": "e-tzCIgKH-1Q"
   },
   "source": [
    "## Вычисление сходства (1 балл)"
   ]
  },
  {
   "cell_type": "markdown",
   "metadata": {
    "id": "xuPKpL8yH-1Q"
   },
   "source": [
    "С помощью `TfidfVectorizer` и `pairwise_distances` расчитайте **косинусное** расстояние между всеми парами документов к корпусе.\n",
    "\n",
    "Про векторизацию текстов с помощью `CountVectorizer` или `TfidfVectorizer` можно почитать [тут](https://www.machinelearningmastery.ru/gentle-introduction-bag-words-model/) \n",
    "\n",
    "Запишите результат в переменную `S`"
   ]
  },
  {
   "cell_type": "code",
   "execution_count": 238,
   "metadata": {
    "id": "DVXMoXCxH-1Q"
   },
   "outputs": [],
   "source": [
    "import seaborn as sns\n",
    "from sklearn.feature_extraction.text import TfidfVectorizer\n",
    "from sklearn.metrics import pairwise_distances"
   ]
  },
  {
   "cell_type": "code",
   "execution_count": 240,
   "metadata": {
    "id": "HiQy9BVzH-1Q"
   },
   "outputs": [],
   "source": [
    "vect = TfidfVectorizer()\n",
    "texts = df.text.values"
   ]
  },
  {
   "cell_type": "code",
   "execution_count": null,
   "metadata": {
    "id": "odY0KlDxH-1R"
   },
   "outputs": [],
   "source": [
    "# Your Code Here"
   ]
  },
  {
   "cell_type": "code",
   "execution_count": null,
   "metadata": {
    "id": "XUdoMWdqH-1R"
   },
   "outputs": [],
   "source": [
    "S = ..."
   ]
  },
  {
   "cell_type": "code",
   "execution_count": null,
   "metadata": {
    "id": "cDSOKR89H-1R"
   },
   "outputs": [],
   "source": [
    "plt.figure(figsize = (10,10))\n",
    "sns.heatmap(data=S, cmap = 'Spectral').set(xticklabels=[],yticklabels=[])\n"
   ]
  },
  {
   "cell_type": "markdown",
   "metadata": {
    "id": "Fc5eCmZaH-1R"
   },
   "source": [
    "Вы должны пронаблюдать, что между некоторыми текстами есть довольно высокое сходство по содержанию слов - мы видим, что вдоль диагонали матрицы попарых расстояний есть \"блоки\" по похожести. \n",
    "\n",
    "Нам конечно же повезло, так как тексты заранее были удачно упорядочены. В реальности такой живописной картины мы скорее всего не увидим.\n",
    "\n",
    "Попробуем их кластеризовать"
   ]
  },
  {
   "cell_type": "markdown",
   "metadata": {
    "id": "V5Xo0dCQH-1R"
   },
   "source": [
    "## DBSCAN (4 балла)\n",
    "* (2) Воспользуйтесь методикой оценки параметров для алгоритма DBSCAN. Не копипастите `min_pts = 2` из семинара! Используйте **косинусную** меру близости.\n",
    "* (1) Выделите кластеры. Для каждого кластера (кроме -1, если он будет) выведите несколько текстов и умозрительно определите его тематику. Можете подсмотреть в исходные тематики корпуса\n",
    "* (1) Оцените сходство с изначальными рубриками визуально (с помощью матрицы перемешивания) и с помощью [Adjusted Rand Index](https://en.wikipedia.org/wiki/Rand_index)"
   ]
  },
  {
   "cell_type": "code",
   "execution_count": null,
   "metadata": {
    "id": "D_tNSQryH-1S"
   },
   "outputs": [],
   "source": [
    "# Your Code Here"
   ]
  },
  {
   "cell_type": "code",
   "execution_count": null,
   "metadata": {
    "id": "HUmAN4L2H-1S"
   },
   "outputs": [],
   "source": [
    "labels = ..."
   ]
  },
  {
   "cell_type": "code",
   "execution_count": null,
   "metadata": {
    "id": "XClpmnHuH-1S",
    "scrolled": false
   },
   "outputs": [],
   "source": [
    "pd.crosstab(df.loc[:, 'class'], labels)"
   ]
  },
  {
   "cell_type": "code",
   "execution_count": null,
   "metadata": {
    "id": "NY9bQiTHH-1S"
   },
   "outputs": [],
   "source": [
    "adjusted_rand_score(true_label, labels)"
   ]
  }
 ],
 "metadata": {
  "anaconda-cloud": {},
  "colab": {
   "name": "hw-unsupervised.ipynb",
   "provenance": [],
   "toc_visible": true
  },
  "kernelspec": {
   "display_name": "Python 3",
   "language": "python",
   "name": "python3"
  },
  "language_info": {
   "codemirror_mode": {
    "name": "ipython",
    "version": 3
   },
   "file_extension": ".py",
   "mimetype": "text/x-python",
   "name": "python",
   "nbconvert_exporter": "python",
   "pygments_lexer": "ipython3",
   "version": "3.8.5"
  },
  "toc": {
   "base_numbering": 1,
   "nav_menu": {
    "height": "216px",
    "width": "252px"
   },
   "number_sections": true,
   "sideBar": true,
   "skip_h1_title": false,
   "title_cell": "Table of Contents",
   "title_sidebar": "Contents",
   "toc_cell": false,
   "toc_position": {
    "height": "830.8px",
    "left": "121px",
    "top": "66.2px",
    "width": "227.133px"
   },
   "toc_section_display": true,
   "toc_window_display": true
  }
 },
 "nbformat": 4,
 "nbformat_minor": 1
}
