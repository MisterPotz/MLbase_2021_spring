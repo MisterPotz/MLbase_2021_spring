{
 "cells": [
  {
   "cell_type": "markdown",
   "metadata": {
    "id": "Ou3jfUSio5rL"
   },
   "source": [
    "Горностаев Александр, ML-11"
   ]
  },
  {
   "cell_type": "code",
   "execution_count": 1,
   "metadata": {
    "id": "iuzaJT_vsYCs"
   },
   "outputs": [],
   "source": [
    "import pandas as pd\n",
    "import numpy as np\n",
    "import seaborn as sns\n",
    "import matplotlib.pyplot as plt"
   ]
  },
  {
   "cell_type": "code",
   "execution_count": 2,
   "metadata": {
    "id": "IDk4tDcFKq_9"
   },
   "outputs": [],
   "source": [
    "# сразу импортирую что нужно\n",
    "from sklearn.impute import KNNImputer\n",
    "from sklearn.impute import SimpleImputer\n",
    "from sklearn.compose import make_column_selector\n",
    "from sklearn.compose import ColumnTransformer\n",
    "from sklearn.base import BaseEstimator, TransformerMixin\n",
    "from sklearn.preprocessing import FunctionTransformer\n",
    "from scipy.stats import rv_discrete\n",
    "\n",
    "from sklearn.linear_model import ElasticNet\n",
    "from sklearn.preprocessing import MinMaxScaler, StandardScaler\n",
    "from sklearn.pipeline import make_pipeline, Pipeline\n",
    "from sklearn.model_selection import train_test_split\n",
    "from sklearn.metrics import mean_absolute_error, mean_squared_error\n",
    "from sklearn.compose import make_column_transformer\n",
    "import numpy as np\n",
    "from sklearn.decomposition import PCA"
   ]
  },
  {
   "cell_type": "markdown",
   "metadata": {},
   "source": [
    "## Используемые вспомогательные функции\n",
    "\n",
    "Крайне впдадлу постоянно искать что-то такое нужное по ноутбуку, поэтому я просто задам все их в начале"
   ]
  },
  {
   "cell_type": "code",
   "execution_count": 3,
   "metadata": {
    "id": "5G44dyyVFbpM"
   },
   "outputs": [],
   "source": [
    "# рабочий, но не использовал по итогу\n",
    "'''\n",
    "imputes values from distribution for each given column\n",
    "target missing values are np.nan\n",
    "'''\n",
    "class DiscreteDistributionImputer():\n",
    "  def __init__(self, random_state=42):\n",
    "    # contains distributions to generate random stuff from\n",
    "    self.distributions = []\n",
    "    # to fix randomness for result recheck\n",
    "    self.random_state = random_state\n",
    "\n",
    "  def fit(self, X, y=None):\n",
    "    columns = []\n",
    "\n",
    "    if isinstance(X, pd.DataFrame):\n",
    "      columns = X.values.T\n",
    "    elif isinstance(X, np.ndarray):\n",
    "      columns = X.T\n",
    "    else:\n",
    "      print(\"given X is neither DataFrame nor ndarray\")\n",
    "\n",
    "    # clear distributions\n",
    "    self.distributions = []\n",
    "    for col in columns:\n",
    "      # must consider only not nans\n",
    "      notnans_mask = ~np.isnan(col)\n",
    "      # must create distribution for each column now\n",
    "      unique_vals, counts = np.unique(col[notnans_mask], return_counts=True)\n",
    "      probabilities = counts / counts.sum()\n",
    "      distribution = rv_discrete(values=(unique_vals, probabilities))\n",
    "      self.distributions.append(distribution)\n",
    "    \n",
    "    return self\n",
    "\n",
    "  def fit_transform(self, X, y = None):\n",
    "    # fit first to create distributions\n",
    "    self.fit(X, y)\n",
    "\n",
    "    # transform\n",
    "    return self.transform(X)\n",
    "    \n",
    "\n",
    "  def transform(self, X):\n",
    "    columns = []\n",
    "\n",
    "    # cast to float because only floats support np.nan\n",
    "    if isinstance(X, pd.DataFrame):\n",
    "      columns = X.values.T.copy().astype(np.float)\n",
    "    elif isinstance(X, np.ndarray):\n",
    "      columns = X.T.copy().astype(np.float)\n",
    "    else:\n",
    "      print(\"given X is neither DataFrame nor ndarray\")\n",
    "\n",
    "    for i, col in enumerate(columns):\n",
    "      distribution = self.distributions[i]\n",
    "      nan_cells_mask = np.isnan(col)\n",
    "      # careful here, where returns a one sized tuple (<value>, )\n",
    "      nan_cells_indices, = np.where(nan_cells_mask)\n",
    "      random_values = distribution.rvs(size=nan_cells_indices.size)\n",
    "      for index, random in zip(nan_cells_indices, random_values):\n",
    "        col[index] = random\n",
    "\n",
    "    return columns.T\n",
    "\n",
    "  def get_params(self, deep=True):\n",
    "    return {}\n",
    "\n",
    "  def set_params(self, **kwargs):\n",
    "    return self"
   ]
  },
  {
   "cell_type": "code",
   "execution_count": 4,
   "metadata": {},
   "outputs": [],
   "source": [
    "'''\n",
    "impute nan using KNN algorithm but slightly modified\n",
    "By default KNNImputer will calculate means (or medians), this implementation will instead look for closest \n",
    "values (for discrete features)\n",
    "'''\n",
    "from sklearn.impute import KNNImputer\n",
    "class KNNWithDiscreteImputer(BaseEstimator, TransformerMixin):\n",
    "    \n",
    "    def __init__(self, columns_with_nans=[]):\n",
    "        print(columns_with_nans)\n",
    "        self.columns_with_nans = columns_with_nans\n",
    "    \n",
    "    def fit(self, X, y=None):\n",
    "        return self\n",
    "    \n",
    "    '''\n",
    "    finds closest value to one of the given unique and sets to each cell\n",
    "    '''\n",
    "    @staticmethod\n",
    "    def set_closest_value(matrix, column, unique_values, indices):\n",
    "      for i in indices:\n",
    "        distance = []\n",
    "        for j in range(len(unique_values)):\n",
    "          distance.append(abs(matrix[i,column]-unique_values[j]))\n",
    "        \n",
    "        min_distance = min(distance)\n",
    "        min_idx = distance.index(min_distance)\n",
    "        matrix[i, column] = unique_values[min_idx]\n",
    "    \n",
    "    def transform(self, X):\n",
    "        if (len(self.columns_with_nans) == 0):\n",
    "            print(\"no target columns were given\")\n",
    "            return X\n",
    "        \n",
    "        unique_target_cols_values = {}\n",
    "        \n",
    "        for i in self.columns_with_nans:\n",
    "            # indeces where nans in this column present\n",
    "            nans_idx = np.array(X.index[X[i].isnull()].tolist())\n",
    "\n",
    "            unique_col_values = X[i].unique()\n",
    "            # remove nans\n",
    "            unique_col_values = unique_col_values[~np.isnan(unique_col_values)]\n",
    "            col_index = X.columns.tolist().index(i)\n",
    "            \n",
    "            unique_target_cols_values[i] = (unique_col_values, col_index, nans_idx)\n",
    "            \n",
    "        imputer = KNNImputer(n_neighbors=3, weights='uniform', metric='nan_euclidean', copy=True) # число соседей подобрал эмпирически\n",
    "        imputed_data = imputer.fit_transform(X.values)\n",
    "        \n",
    "        for col_name in self.columns_with_nans:\n",
    "            unique_values, col_index, nans_idx = unique_target_cols_values[col_name]\n",
    "            self.set_closest_value(imputed_data, col_index, unique_values, nans_idx)\n",
    "\n",
    "        return imputed_data"
   ]
  },
  {
   "cell_type": "code",
   "execution_count": 5,
   "metadata": {
    "id": "aNICnvW4LGuB"
   },
   "outputs": [],
   "source": [
    "# для перевода дат в месяца\n",
    "'''\n",
    "finds a min date per Series (of type pd.Timestamp)\n",
    "then subtracts it from each date\n",
    "the result per each column is a column with amount of days\n",
    "'''\n",
    "class DatePreprocessor():\n",
    "  def __init__(self, random_state=42):\n",
    "    self.min_dates = []\n",
    "\n",
    "  def fit(self, X, y=None):\n",
    "    return self\n",
    "\n",
    "  def fit_transform(self, X, y = None):\n",
    "    # fit first to create distributions\n",
    "    self.fit(X, y)\n",
    "\n",
    "    # transform\n",
    "    return self.transform(X)\n",
    "    \n",
    "\n",
    "  def transform(self, X):\n",
    "    columns = []\n",
    "    if (len(X.shape) == 1):\n",
    "      print(\"1d array is not supported, expected 2d\")\n",
    "\n",
    "    if isinstance(X, pd.DataFrame):\n",
    "      columns = X.values.T\n",
    "    elif isinstance(X, np.ndarray):\n",
    "      columns = X.T\n",
    "    else:\n",
    "      print(\"given X is neither DataFrame nor ndarray\")\n",
    "\n",
    "    print(columns.dtype)\n",
    "    dates = np.ones(X.T.shape, dtype=np.int)\n",
    "\n",
    "    for index, col in enumerate(columns):\n",
    "      dates[index] = np.array(list(map(lambda date: pd.Timestamp(date).month, col)))\n",
    "\n",
    "    return dates.T\n",
    "\n",
    "  def get_params(self, deep=True):\n",
    "    return {}\n",
    "\n",
    "  def set_params(self, **kwargs):\n",
    "    return self"
   ]
  },
  {
   "cell_type": "code",
   "execution_count": 6,
   "metadata": {
    "id": "VhuApDK1MzDR"
   },
   "outputs": [],
   "source": [
    "# для каста определенных столбцов к интам\n",
    "'''\n",
    "casts all passed columns to int\n",
    "\n",
    "may raise error if cannot cast series to int (if, e.g., nan is encountered)\n",
    "'''\n",
    "class CategoricalFeaturesToIntPreprocessor(BaseEstimator, TransformerMixin):\n",
    "  def __init__(self):\n",
    "      pass\n",
    "  \n",
    "  def fit(self, X, y=None):\n",
    "      return self\n",
    "  \n",
    "  def fit_transform(self, X, y = None):\n",
    "    # fit first to create distributions\n",
    "    self.fit(X, y)\n",
    "\n",
    "    # transform\n",
    "    return self.transform(X)\n",
    "  \n",
    "  def transform(self, X):\n",
    "    columns = []\n",
    "    print(type(X.head()))\n",
    "    print(X.head(), X.shape)\n",
    "    columns = X.T\n",
    "\n",
    "    for index in range(len(columns)):\n",
    "      columns[index] = columns[index].astype(np.int)\n",
    "    \n",
    "    return columns.T"
   ]
  },
  {
   "cell_type": "code",
   "execution_count": 7,
   "metadata": {},
   "outputs": [],
   "source": [
    "# для проверки модели с просто дропнутыми данными, в итоге не используется\n",
    "'''\n",
    "drops nans\n",
    "'''\n",
    "class NanDropper(BaseEstimator, TransformerMixin):\n",
    "  def __init__(self):\n",
    "      pass\n",
    "  \n",
    "  def fit(self, X, y=None):\n",
    "      return self\n",
    "  \n",
    "  def fit_transform(self, X, y = None):\n",
    "    # fit first to create distributions\n",
    "    self.fit(X, y)\n",
    "\n",
    "    # transform\n",
    "    return self.transform(X)\n",
    "  \n",
    "  def transform(self, X, *y):\n",
    "    X = X.dropna()\n",
    "    return X"
   ]
  },
  {
   "cell_type": "code",
   "execution_count": 8,
   "metadata": {},
   "outputs": [],
   "source": [
    "# create transformator that accepts NumPy array and returns pd.DataFrame with passed columns\n",
    "# and converts given toint columns to int\n",
    "def pandarizer(columns, *placed_to_first, **options):\n",
    "    if (len(placed_to_first) != 0):\n",
    "        columns = names_at_start(columns, *placed_to_first)\n",
    "        \n",
    "    def framerize(x):\n",
    "        frame = None\n",
    "        if isinstance(x, pd.DataFrame):\n",
    "            frame = x\n",
    "        else:\n",
    "            frame = pd.DataFrame(x, columns = columns)\n",
    "        \n",
    "        if len(options) > 0:\n",
    "            int_columns = options['toint']\n",
    "            for int_column in int_columns:\n",
    "                frame[int_column] = frame[int_column].astype(np.int)\n",
    "        return frame\n",
    "            \n",
    "    return FunctionTransformer(lambda x: framerize(x))\n",
    "\n",
    "'''\n",
    "columns - list of strings\n",
    "placed_to_first - expanded list of strings, that are contained in columns and which should go first \n",
    "by order in returned array\n",
    "\n",
    "returns array where strings placed_to_first go before all other strings from columns\n",
    "\n",
    "ex.\n",
    "names_at_start(['biba', 'boba', '3'], '3', 'boba') \n",
    "will return\n",
    "['3', 'boba', 'biba']\n",
    "\n",
    "'''\n",
    "def names_at_start(columns, *placed_to_first):\n",
    "    columns = columns.copy()\n",
    "    if not isinstance(columns, list):\n",
    "        columns = columns.tolist()\n",
    "        \n",
    "    for name in placed_to_first[::-1]:\n",
    "        if name not in columns:\n",
    "            print(name, \"not in list\")\n",
    "        columns.remove(name)\n",
    "        columns.insert(0, name)\n",
    "    return columns\n",
    "\n",
    "'''\n",
    "returns copy of columns without strings in without_names\n",
    "'''\n",
    "def without(columns, *without_names):\n",
    "    columns = columns.copy()\n",
    "    if not isinstance(columns, list):\n",
    "        columns = columns.tolist()\n",
    "        \n",
    "    for name in without_names:\n",
    "        columns.remove(name)\n",
    "    return columns"
   ]
  },
  {
   "cell_type": "code",
   "execution_count": 9,
   "metadata": {},
   "outputs": [],
   "source": [
    "def relative_accuracy(y_true, y_pred): \n",
    "  return 1 - (np.abs((y_true - y_pred) / y_train_test).mean())"
   ]
  },
  {
   "cell_type": "code",
   "execution_count": 10,
   "metadata": {},
   "outputs": [],
   "source": [
    "# method for convenient creation of pipeline for columns (pd.Index or simple list)  \n",
    "def create_preprocess_model_for_columns(columns):\n",
    "    preprocess_model = make_pipeline(\n",
    "        make_column_transformer(\n",
    "            # convert date to months\n",
    "            (DatePreprocessor(), ['date']),\n",
    "\n",
    "            remainder= # fill all nans with KNN and for discrete values choose closest\n",
    "            (KNNWithDiscreteImputer(columns_with_nans=['build_tech', 'g_lift']))\n",
    "        ),\n",
    "        # pandarize for other columntransform conversion, date label goes first after first step,\n",
    "        # toint=[columns] columns will become ints in new pandas table after this step\n",
    "        pandarizer(columns, 'date',\n",
    "                   toint=['date', 'build_tech', \n",
    "                          'g_lift', 'floor',\n",
    "                          'rooms', 'balcon',\n",
    "                          'n_photos', 'street_id',\n",
    "                         *[\"kw{}\".format(i) for i in range(1, 14)]\n",
    "                         ]),\n",
    "        'passthrough'\n",
    "    )\n",
    "    return preprocess_model"
   ]
  },
  {
   "cell_type": "markdown",
   "metadata": {
    "id": "llv4CUjXtoWi"
   },
   "source": [
    "## Подгрузить данные\n",
    "\n"
   ]
  },
  {
   "cell_type": "code",
   "execution_count": 11,
   "metadata": {},
   "outputs": [],
   "source": [
    "# !wget https://raw.githubusercontent.com/MisterPotz/MLbase_2021_spring/main/lecture05/Train.csv -O Train.csv\n",
    "# !wget https://raw.githubusercontent.com/MisterPotz/MLbase_2021_spring/main/lecture05/Test.csv -O Test.csv"
   ]
  },
  {
   "cell_type": "code",
   "execution_count": 12,
   "metadata": {
    "id": "FqmALDpcpCPg"
   },
   "outputs": [],
   "source": [
    "# gdrive_path_train = \"/content/drive/MyDrive/Технопарк 2021 ML/lecture05/Train.csv\"\n",
    "local_path_train = \"Train.csv\"\n",
    "# gdrive_path_test = \"/content/drive/MyDrive/Технопарк 2021 ML/lecture05/Test.csv\"\n",
    "local_path_test = \"Test.csv\"\n",
    "\n",
    "data_train = pd.read_csv(local_path_train, index_col=None)\n",
    "data_test = pd.read_csv(local_path_test, index_col=None)\n",
    "\n",
    "# сразу дропаю айдишники\n",
    "data_train['date'] = pd.to_datetime(data_train['date'])\n",
    "data_test['date'] = pd.to_datetime(data_test['date'])\n",
    "data_train.drop(data_train.columns[[0]], axis=1,inplace=True)\n",
    "data_test.drop(data_test.columns[[0]], axis=1,inplace=True)"
   ]
  },
  {
   "cell_type": "code",
   "execution_count": 13,
   "metadata": {
    "colab": {
     "base_uri": "https://localhost:8080/",
     "height": 394
    },
    "id": "vjmBIeYsgNb-",
    "outputId": "be481506-6b34-4f63-c74a-6b4a79406a5b"
   },
   "outputs": [
    {
     "data": {
      "text/html": [
       "<div>\n",
       "<style scoped>\n",
       "    .dataframe tbody tr th:only-of-type {\n",
       "        vertical-align: middle;\n",
       "    }\n",
       "\n",
       "    .dataframe tbody tr th {\n",
       "        vertical-align: top;\n",
       "    }\n",
       "\n",
       "    .dataframe thead th {\n",
       "        text-align: right;\n",
       "    }\n",
       "</style>\n",
       "<table border=\"1\" class=\"dataframe\">\n",
       "  <thead>\n",
       "    <tr style=\"text-align: right;\">\n",
       "      <th></th>\n",
       "      <th>date</th>\n",
       "      <th>street_id</th>\n",
       "      <th>build_tech</th>\n",
       "      <th>floor</th>\n",
       "      <th>area</th>\n",
       "      <th>rooms</th>\n",
       "      <th>balcon</th>\n",
       "      <th>metro_dist</th>\n",
       "      <th>g_lift</th>\n",
       "      <th>n_photos</th>\n",
       "      <th>...</th>\n",
       "      <th>kw5</th>\n",
       "      <th>kw6</th>\n",
       "      <th>kw7</th>\n",
       "      <th>kw8</th>\n",
       "      <th>kw9</th>\n",
       "      <th>kw10</th>\n",
       "      <th>kw11</th>\n",
       "      <th>kw12</th>\n",
       "      <th>kw13</th>\n",
       "      <th>price</th>\n",
       "    </tr>\n",
       "  </thead>\n",
       "  <tbody>\n",
       "    <tr>\n",
       "      <th>0</th>\n",
       "      <td>2011-01-01</td>\n",
       "      <td>385</td>\n",
       "      <td>NaN</td>\n",
       "      <td>1</td>\n",
       "      <td>59</td>\n",
       "      <td>3</td>\n",
       "      <td>0</td>\n",
       "      <td>25.0</td>\n",
       "      <td>NaN</td>\n",
       "      <td>2</td>\n",
       "      <td>...</td>\n",
       "      <td>0</td>\n",
       "      <td>0</td>\n",
       "      <td>0</td>\n",
       "      <td>0</td>\n",
       "      <td>0</td>\n",
       "      <td>0</td>\n",
       "      <td>0</td>\n",
       "      <td>0</td>\n",
       "      <td>0</td>\n",
       "      <td>2489000</td>\n",
       "    </tr>\n",
       "    <tr>\n",
       "      <th>1</th>\n",
       "      <td>2011-01-01</td>\n",
       "      <td>247</td>\n",
       "      <td>NaN</td>\n",
       "      <td>5</td>\n",
       "      <td>53</td>\n",
       "      <td>2</td>\n",
       "      <td>1</td>\n",
       "      <td>15.0</td>\n",
       "      <td>1.0</td>\n",
       "      <td>2</td>\n",
       "      <td>...</td>\n",
       "      <td>0</td>\n",
       "      <td>0</td>\n",
       "      <td>0</td>\n",
       "      <td>0</td>\n",
       "      <td>0</td>\n",
       "      <td>0</td>\n",
       "      <td>0</td>\n",
       "      <td>0</td>\n",
       "      <td>0</td>\n",
       "      <td>1995000</td>\n",
       "    </tr>\n",
       "    <tr>\n",
       "      <th>2</th>\n",
       "      <td>2011-01-01</td>\n",
       "      <td>115</td>\n",
       "      <td>0.0</td>\n",
       "      <td>7</td>\n",
       "      <td>61</td>\n",
       "      <td>3</td>\n",
       "      <td>0</td>\n",
       "      <td>10.0</td>\n",
       "      <td>1.0</td>\n",
       "      <td>1</td>\n",
       "      <td>...</td>\n",
       "      <td>0</td>\n",
       "      <td>0</td>\n",
       "      <td>0</td>\n",
       "      <td>0</td>\n",
       "      <td>0</td>\n",
       "      <td>0</td>\n",
       "      <td>0</td>\n",
       "      <td>0</td>\n",
       "      <td>0</td>\n",
       "      <td>3993000</td>\n",
       "    </tr>\n",
       "    <tr>\n",
       "      <th>3</th>\n",
       "      <td>2011-01-01</td>\n",
       "      <td>491</td>\n",
       "      <td>1.0</td>\n",
       "      <td>5</td>\n",
       "      <td>61</td>\n",
       "      <td>3</td>\n",
       "      <td>1</td>\n",
       "      <td>30.0</td>\n",
       "      <td>NaN</td>\n",
       "      <td>0</td>\n",
       "      <td>...</td>\n",
       "      <td>0</td>\n",
       "      <td>0</td>\n",
       "      <td>0</td>\n",
       "      <td>0</td>\n",
       "      <td>0</td>\n",
       "      <td>0</td>\n",
       "      <td>0</td>\n",
       "      <td>0</td>\n",
       "      <td>0</td>\n",
       "      <td>5709000</td>\n",
       "    </tr>\n",
       "    <tr>\n",
       "      <th>4</th>\n",
       "      <td>2011-01-01</td>\n",
       "      <td>623</td>\n",
       "      <td>NaN</td>\n",
       "      <td>3</td>\n",
       "      <td>51</td>\n",
       "      <td>2</td>\n",
       "      <td>1</td>\n",
       "      <td>30.0</td>\n",
       "      <td>NaN</td>\n",
       "      <td>1</td>\n",
       "      <td>...</td>\n",
       "      <td>0</td>\n",
       "      <td>0</td>\n",
       "      <td>0</td>\n",
       "      <td>0</td>\n",
       "      <td>0</td>\n",
       "      <td>0</td>\n",
       "      <td>0</td>\n",
       "      <td>0</td>\n",
       "      <td>0</td>\n",
       "      <td>4374000</td>\n",
       "    </tr>\n",
       "  </tbody>\n",
       "</table>\n",
       "<p>5 rows × 24 columns</p>\n",
       "</div>"
      ],
      "text/plain": [
       "        date  street_id  build_tech  floor  area  rooms  balcon  metro_dist  \\\n",
       "0 2011-01-01        385         NaN      1    59      3       0        25.0   \n",
       "1 2011-01-01        247         NaN      5    53      2       1        15.0   \n",
       "2 2011-01-01        115         0.0      7    61      3       0        10.0   \n",
       "3 2011-01-01        491         1.0      5    61      3       1        30.0   \n",
       "4 2011-01-01        623         NaN      3    51      2       1        30.0   \n",
       "\n",
       "   g_lift  n_photos  ...  kw5  kw6  kw7  kw8  kw9  kw10  kw11  kw12  kw13  \\\n",
       "0     NaN         2  ...    0    0    0    0    0     0     0     0     0   \n",
       "1     1.0         2  ...    0    0    0    0    0     0     0     0     0   \n",
       "2     1.0         1  ...    0    0    0    0    0     0     0     0     0   \n",
       "3     NaN         0  ...    0    0    0    0    0     0     0     0     0   \n",
       "4     NaN         1  ...    0    0    0    0    0     0     0     0     0   \n",
       "\n",
       "     price  \n",
       "0  2489000  \n",
       "1  1995000  \n",
       "2  3993000  \n",
       "3  5709000  \n",
       "4  4374000  \n",
       "\n",
       "[5 rows x 24 columns]"
      ]
     },
     "execution_count": 13,
     "metadata": {},
     "output_type": "execute_result"
    }
   ],
   "source": [
    "data_train.head()"
   ]
  },
  {
   "cell_type": "markdown",
   "metadata": {},
   "source": [
    "## Анализ данных (первичный)\n",
    "\n",
    "Показал, что данные не так сильно скоррелированы, чтобы убирать какие-то фичи.\n",
    "\n",
    "Среди фичей есть те, где много пропущенных значений.\n",
    "\n",
    "metro_dist - пропущенные значения в preprocessing pipeline будут выведены с помощью KNNImputer\n",
    "\n",
    "build_tech, g_lift - nan'ы будут убраны также с помощью KNNImputer, но слегка модифицированного - в каждом случае будет приниматься одно из уникальных значений, ближайшее к тому, что вывел KNNImputer"
   ]
  },
  {
   "cell_type": "code",
   "execution_count": 14,
   "metadata": {},
   "outputs": [
    {
     "data": {
      "image/png": "[encoded data removed]",
      "text/plain": [
       "<Figure size 864x864 with 25 Axes>"
      ]
     },
     "metadata": {
      "needs_background": "light"
     },
     "output_type": "display_data"
    }
   ],
   "source": [
    "# посмотреть на распределения фичей\n",
    "data_train.hist(figsize=(12, 12))\n",
    "None"
   ]
  },
  {
   "cell_type": "code",
   "execution_count": 15,
   "metadata": {},
   "outputs": [
    {
     "name": "stdout",
     "output_type": "stream",
     "text": [
      "build_tech \t 29985\n",
      "metro_dist \t 5094\n",
      "g_lift \t 30058\n"
     ]
    }
   ],
   "source": [
    "# столбцы где есть наны\n",
    "for name, nans in data_train.isna().sum(axis=0).iteritems():\n",
    "    if (nans > 0):\n",
    "        print(name, '\\t', nans)"
   ]
  },
  {
   "cell_type": "markdown",
   "metadata": {},
   "source": [
    "Для заполнения пропущенных значений были сделаны KNNWithDiscreteImputer, DatePreprocessor"
   ]
  },
  {
   "cell_type": "markdown",
   "metadata": {
    "id": "cDG4ay_rOePi"
   },
   "source": [
    "## CatBoost \n",
    "Использую CatBoost в качестве регрессора"
   ]
  },
  {
   "cell_type": "code",
   "execution_count": 16,
   "metadata": {
    "id": "nsmaj2J1OTQm"
   },
   "outputs": [],
   "source": [
    "from catboost import Pool, CatBoostRegressor"
   ]
  },
  {
   "cell_type": "markdown",
   "metadata": {},
   "source": [
    "Этот пайплайн должен:\n",
    "1. Менять даты на месяца\n",
    "2. Пропущенные значения выводить с помощью KNNImputer. Если они дискретные - то будет выбираться наиболее близкое уникально дискретное значение.\n",
    "3. Затем будет делать датафрейм, чтобы категориальные фичи преобразовать обратно в целочисленные\n",
    "4. Кормить датасет нужной модели\n",
    "\n",
    "Поскольку KNN долгий - то и работать оно будет долго"
   ]
  },
  {
   "cell_type": "code",
   "execution_count": 17,
   "metadata": {},
   "outputs": [
    {
     "name": "stdout",
     "output_type": "stream",
     "text": [
      "['build_tech', 'g_lift']\n"
     ]
    }
   ],
   "source": [
    "preprocess_model = create_preprocess_model_for_columns(data_train.columns)"
   ]
  },
  {
   "cell_type": "markdown",
   "metadata": {},
   "source": [
    "Ячейка ниже будет выполняться несколько минут. Поэтому лучше ее скипнуть, и раскоментить ячейку после нее. \n",
    "Эти данные должны содержать заполненные фичи, которые где надо приведены к интам и т.д., см. описание к пайплану который должен использоваться в ячейке ниже"
   ]
  },
  {
   "cell_type": "code",
   "execution_count": 18,
   "metadata": {},
   "outputs": [],
   "source": [
    "# %%time\n",
    "# data_train_preprocessed = preprocess_model.fit_transform(data_train)"
   ]
  },
  {
   "cell_type": "code",
   "execution_count": 19,
   "metadata": {
    "scrolled": true
   },
   "outputs": [],
   "source": [
    "# !wget https://raw.githubusercontent.com/MisterPotz/MLbase_2021_spring/main/lecture05/TrainPreprocessed.csv -O TrainPreprocessed.csv"
   ]
  },
  {
   "cell_type": "code",
   "execution_count": 20,
   "metadata": {},
   "outputs": [],
   "source": [
    "data_train_preprocessed = pd.read_csv(\"TrainPreprocessed.csv\", sep=\",\", index_col=False)"
   ]
  },
  {
   "cell_type": "code",
   "execution_count": 22,
   "metadata": {},
   "outputs": [],
   "source": [
    "X_train_train, X_train_test, y_train_train, y_train_test\\\n",
    "= train_test_split(data_train_preprocessed.iloc[:, :-1], data_train_preprocessed.iloc[:, -1], shuffle=False,test_size=0.9)"
   ]
  },
  {
   "cell_type": "code",
   "execution_count": 23,
   "metadata": {},
   "outputs": [],
   "source": [
    "cat_feat=[\"date\",\"build_tech\",\"street_id\", \"kw2\", \"balcon\", \"g_lift\", \"floor\"]\n",
    "\n",
    "train_set = Pool(data=X_train_train, label=y_train_train, cat_features=cat_feat)\n",
    "test_set = Pool(data=X_train_test, label=y_train_test, cat_features=cat_feat)"
   ]
  },
  {
   "cell_type": "markdown",
   "metadata": {},
   "source": [
    "Ниже выбор:\n",
    "1. Можно заново учить модель по этим параметрам\n",
    "2. Можно смотреть параметры по гридсерчу\n"
   ]
  },
  {
   "cell_type": "code",
   "execution_count": 36,
   "metadata": {},
   "outputs": [],
   "source": [
    "from catboost import CatBoostRegressor\n",
    "\n",
    "# ВАРИАНТ с параметрами\n",
    "# \n",
    "# # здесь уже оптимальные параметры, но можно раскоментить гридсерч и подождать минут 10\n",
    "model = CatBoostRegressor(loss_function='MAE',\n",
    "                          cat_features=cat_feat,\n",
    "                          learning_rate=0.1,\n",
    "                          depth=8,\n",
    "                          eval_metric = 'MAE', \n",
    "                          iterations=1000, \n",
    "                          verbose=100)\n",
    "\n",
    "# ВАРИАНТ с грид серчем\n",
    "\n",
    "# grid = {'learning_rate': [0.01, 0.1, 1],\n",
    "#         'depth': [3, 8],\n",
    "#         'iterations': [1000, 2000]}\n",
    "\n",
    "# model_grid_search = model.grid_search(grid, \n",
    "#                                        X=data_train_preprocessed.iloc[:, :-1], \n",
    "#                                        y=data_train_preprocessed.iloc[:, -1],\n",
    "#                                        verbose = False,\n",
    "#                                        partition_random_seed = 123,\n",
    "#                                        cv = 5,\n",
    "#                                        train_size=0.8,\n",
    "#                                        plot=False)\n",
    "# print(model.best_score_)\n",
    "# print(model.get_all_params())\n",
    "# \n",
    "# model_grid_search"
   ]
  },
  {
   "cell_type": "code",
   "execution_count": 37,
   "metadata": {},
   "outputs": [],
   "source": [
    "# model.get_all_params()"
   ]
  },
  {
   "cell_type": "code",
   "execution_count": 38,
   "metadata": {
    "colab": {
     "base_uri": "https://localhost:8080/"
    },
    "id": "KcIx0AEUViJW",
    "outputId": "e2d3e26e-f1d0-4775-dc5f-b7bcf076ca56",
    "scrolled": true
   },
   "outputs": [
    {
     "name": "stdout",
     "output_type": "stream",
     "text": [
      "0:\tlearn: 2164360.3283391\ttotal: 27.2ms\tremaining: 27.2s\n",
      "100:\tlearn: 990829.8011310\ttotal: 2.9s\tremaining: 25.8s\n",
      "200:\tlearn: 843531.8620383\ttotal: 5.64s\tremaining: 22.4s\n",
      "300:\tlearn: 759860.5573137\ttotal: 8.36s\tremaining: 19.4s\n",
      "400:\tlearn: 689377.0179314\ttotal: 11.1s\tremaining: 16.6s\n",
      "500:\tlearn: 643886.7511578\ttotal: 13.9s\tremaining: 13.8s\n",
      "600:\tlearn: 614957.9745377\ttotal: 16.7s\tremaining: 11.1s\n",
      "700:\tlearn: 591266.4496668\ttotal: 19.4s\tremaining: 8.29s\n",
      "800:\tlearn: 572687.3232113\ttotal: 22.2s\tremaining: 5.51s\n",
      "900:\tlearn: 555978.8309746\ttotal: 24.9s\tremaining: 2.74s\n",
      "999:\tlearn: 539863.6221829\ttotal: 27.7s\tremaining: 0us\n"
     ]
    },
    {
     "data": {
      "text/plain": [
       "<catboost.core.CatBoostRegressor at 0x237930e4310>"
      ]
     },
     "execution_count": 38,
     "metadata": {},
     "output_type": "execute_result"
    }
   ],
   "source": [
    "model.fit(train_set)"
   ]
  },
  {
   "cell_type": "code",
   "execution_count": 27,
   "metadata": {},
   "outputs": [],
   "source": [
    "y_train_test_pred = model.predict(X_train_test)"
   ]
  },
  {
   "cell_type": "code",
   "execution_count": 28,
   "metadata": {
    "colab": {
     "base_uri": "https://localhost:8080/"
    },
    "id": "OY0-0WumVuoI",
    "outputId": "db037037-489b-4f61-f1ab-e957cdb389c4"
   },
   "outputs": [
    {
     "data": {
      "text/plain": [
       "0.7061814875676478"
      ]
     },
     "execution_count": 28,
     "metadata": {},
     "output_type": "execute_result"
    }
   ],
   "source": [
    "relative_accuracy(y_train_test, y_train_test_pred)"
   ]
  },
  {
   "cell_type": "code",
   "execution_count": 29,
   "metadata": {
    "colab": {
     "base_uri": "https://localhost:8080/"
    },
    "id": "rLUuSUfNr8vY",
    "outputId": "3e04b33a-05af-4464-e784-d4fe1f2d4d52"
   },
   "outputs": [
    {
     "data": {
      "text/plain": [
       "938729.4328060169"
      ]
     },
     "execution_count": 29,
     "metadata": {},
     "output_type": "execute_result"
    }
   ],
   "source": [
    "mean_absolute_error(y_train_test,y_train_test_pred )"
   ]
  },
  {
   "cell_type": "code",
   "execution_count": 30,
   "metadata": {},
   "outputs": [
    {
     "data": {
      "text/plain": [
       "Text(0, 0.5, 'Предсказанные значения')"
      ]
     },
     "execution_count": 30,
     "metadata": {},
     "output_type": "execute_result"
    },
    {
     "data": {
      "image/png": "[encoded data removed]",
      "text/plain": [
       "<Figure size 432x288 with 1 Axes>"
      ]
     },
     "metadata": {
      "needs_background": "light"
     },
     "output_type": "display_data"
    }
   ],
   "source": [
    "fig, ax = plt.subplots()\n",
    "\n",
    "ax.scatter(y_train_test, y_train_test_pred)\n",
    "ax.set_xlabel(\"Реальные значения\")\n",
    "ax.set_ylabel(\"Предсказанные значения\")"
   ]
  },
  {
   "cell_type": "markdown",
   "metadata": {
    "id": "zHn4mfR5Vv7t"
   },
   "source": [
    "Не айс, но бейзлайн побьет. Пукает выбросами."
   ]
  },
  {
   "cell_type": "markdown",
   "metadata": {
    "id": "n4dHaVA7dPUV"
   },
   "source": [
    "## Использование модели на тесте\n",
    "\n",
    "можно, конечно, использовать пайплайн, но оно снова будет 4 минуты. Проще скачать (в следующей ячейке)"
   ]
  },
  {
   "cell_type": "code",
   "execution_count": 31,
   "metadata": {},
   "outputs": [],
   "source": [
    "# %%time\n",
    "# data_test_preprocessed = create_preprocess_model_for_columns(data_test.columns).fit_transform(data_test)"
   ]
  },
  {
   "cell_type": "code",
   "execution_count": 32,
   "metadata": {},
   "outputs": [],
   "source": [
    "# !wget https://raw.githubusercontent.com/MisterPotz/MLbase_2021_spring/main/lecture05/TestPreprocessed.csv -O TestPreprocessed.csv\n",
    "\n",
    "data_test_preprocessed = pd.read_csv(\"TestPreprocessed.csv\", sep=\",\", index_col=False)"
   ]
  },
  {
   "cell_type": "code",
   "execution_count": 33,
   "metadata": {
    "id": "9NB3_O9-gJps"
   },
   "outputs": [],
   "source": [
    "y_test_pred = model.predict(data_test_preprocessed)"
   ]
  },
  {
   "cell_type": "code",
   "execution_count": 34,
   "metadata": {
    "id": "xL7yPS5-hQEO"
   },
   "outputs": [
    {
     "data": {
      "text/html": [
       "<div>\n",
       "<style scoped>\n",
       "    .dataframe tbody tr th:only-of-type {\n",
       "        vertical-align: middle;\n",
       "    }\n",
       "\n",
       "    .dataframe tbody tr th {\n",
       "        vertical-align: top;\n",
       "    }\n",
       "\n",
       "    .dataframe thead th {\n",
       "        text-align: right;\n",
       "    }\n",
       "</style>\n",
       "<table border=\"1\" class=\"dataframe\">\n",
       "  <thead>\n",
       "    <tr style=\"text-align: right;\">\n",
       "      <th></th>\n",
       "      <th>price</th>\n",
       "    </tr>\n",
       "    <tr>\n",
       "      <th>id</th>\n",
       "      <th></th>\n",
       "    </tr>\n",
       "  </thead>\n",
       "  <tbody>\n",
       "    <tr>\n",
       "      <th>100000</th>\n",
       "      <td>1.684206e+06</td>\n",
       "    </tr>\n",
       "    <tr>\n",
       "      <th>100001</th>\n",
       "      <td>2.039176e+06</td>\n",
       "    </tr>\n",
       "    <tr>\n",
       "      <th>100002</th>\n",
       "      <td>5.561131e+06</td>\n",
       "    </tr>\n",
       "    <tr>\n",
       "      <th>100003</th>\n",
       "      <td>1.342789e+06</td>\n",
       "    </tr>\n",
       "    <tr>\n",
       "      <th>100004</th>\n",
       "      <td>4.999492e+06</td>\n",
       "    </tr>\n",
       "    <tr>\n",
       "      <th>...</th>\n",
       "      <td>...</td>\n",
       "    </tr>\n",
       "    <tr>\n",
       "      <th>199995</th>\n",
       "      <td>1.912489e+07</td>\n",
       "    </tr>\n",
       "    <tr>\n",
       "      <th>199996</th>\n",
       "      <td>2.292000e+06</td>\n",
       "    </tr>\n",
       "    <tr>\n",
       "      <th>199997</th>\n",
       "      <td>2.317836e+06</td>\n",
       "    </tr>\n",
       "    <tr>\n",
       "      <th>199998</th>\n",
       "      <td>3.089821e+06</td>\n",
       "    </tr>\n",
       "    <tr>\n",
       "      <th>199999</th>\n",
       "      <td>3.279396e+06</td>\n",
       "    </tr>\n",
       "  </tbody>\n",
       "</table>\n",
       "<p>100000 rows × 1 columns</p>\n",
       "</div>"
      ],
      "text/plain": [
       "               price\n",
       "id                  \n",
       "100000  1.684206e+06\n",
       "100001  2.039176e+06\n",
       "100002  5.561131e+06\n",
       "100003  1.342789e+06\n",
       "100004  4.999492e+06\n",
       "...              ...\n",
       "199995  1.912489e+07\n",
       "199996  2.292000e+06\n",
       "199997  2.317836e+06\n",
       "199998  3.089821e+06\n",
       "199999  3.279396e+06\n",
       "\n",
       "[100000 rows x 1 columns]"
      ]
     },
     "execution_count": 34,
     "metadata": {},
     "output_type": "execute_result"
    }
   ],
   "source": [
    "# подготовить ответы к выгрузке на Кеглю\n",
    "answers = np.hstack((np.arange(100000, 200000)[:, np.newaxis], y_test_pred[:, np.newaxis]))\n",
    "answers_pd = pd.DataFrame(answers, columns=[\"id\", \"price\"])\n",
    "answers_pd['id'] = answers_pd['id'].astype(np.int)\n",
    "answers_pd.set_index('id')"
   ]
  },
  {
   "cell_type": "code",
   "execution_count": 35,
   "metadata": {
    "id": "cUMLGbDpijqt"
   },
   "outputs": [],
   "source": [
    "answers_pd.to_csv(\"submission.csv\", index=False)"
   ]
  }
 ],
 "metadata": {
  "colab": {
   "collapsed_sections": [
    "ebEXDRPKMfTp"
   ],
   "name": "dz3_kaggle.ipynb",
   "provenance": []
  },
  "kernelspec": {
   "display_name": "Python 3",
   "language": "python",
   "name": "python3"
  },
  "language_info": {
   "codemirror_mode": {
    "name": "ipython",
    "version": 3
   },
   "file_extension": ".py",
   "mimetype": "text/x-python",
   "name": "python",
   "nbconvert_exporter": "python",
   "pygments_lexer": "ipython3",
   "version": "3.8.5"
  }
 },
 "nbformat": 4,
 "nbformat_minor": 1
}
